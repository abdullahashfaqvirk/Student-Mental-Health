{
 "cells": [
  {
   "cell_type": "markdown",
   "id": "432839a0-5dc6-4321-8e21-28afc71f0715",
   "metadata": {},
   "source": [
    "# Applied Machine Learning\n",
    "\n",
    "- [Random Forest Classification](#Random-Forest-Classification)\n",
    "  - [RF Stress Level](#RF-Stress-Level)\n",
    "  - [RF Depression](#RF-Depression)\n",
    "- [Feature Importance](#Feature-Importance)\n",
    "- [Testing Models](#Testing-Models)"
   ]
  },
  {
   "cell_type": "code",
   "execution_count": 1,
   "id": "e70fa7ed-4f8b-420c-996d-3d62c11cfe48",
   "metadata": {},
   "outputs": [],
   "source": [
    "import numpy as np\n",
    "import pandas as pd\n",
    "import seaborn as sns\n",
    "import matplotlib.pyplot as plt\n",
    "\n",
    "from joblib import dump, load\n",
    "from sklearn.metrics import confusion_matrix\n",
    "from sklearn.ensemble import RandomForestClassifier\n",
    "from sklearn.metrics import classification_report, accuracy_score\n",
    "from sklearn.model_selection import train_test_split, cross_val_score"
   ]
  },
  {
   "cell_type": "code",
   "execution_count": 2,
   "id": "53ab5def-a51a-46fc-9615-28e860b7d1c3",
   "metadata": {},
   "outputs": [],
   "source": [
    "df = pd.read_csv(\"../Data/Mental Health Cleaned Data.csv\")"
   ]
  },
  {
   "cell_type": "code",
   "execution_count": 3,
   "id": "1dbcc140-b693-422a-8062-1798c3af2e50",
   "metadata": {},
   "outputs": [
    {
     "name": "stdout",
     "output_type": "stream",
     "text": [
      "<class 'pandas.core.frame.DataFrame'>\n",
      "RangeIndex: 85 entries, 0 to 84\n",
      "Data columns (total 24 columns):\n",
      " #   Column                    Non-Null Count  Dtype  \n",
      "---  ------                    --------------  -----  \n",
      " 0   Gender                    85 non-null     int64  \n",
      " 1   Age                       85 non-null     int64  \n",
      " 2   University                85 non-null     object \n",
      " 3   Degree Level              85 non-null     int64  \n",
      " 4   Year                      85 non-null     int64  \n",
      " 5   Course                    85 non-null     object \n",
      " 6   CGPA                      85 non-null     float64\n",
      " 7   Residential Status        85 non-null     int64  \n",
      " 8   Campus Mistreat           85 non-null     int64  \n",
      " 9   Sports                    85 non-null     int64  \n",
      " 10  Sleep                     85 non-null     int64  \n",
      " 11  Field Satisfaction        85 non-null     int64  \n",
      " 12  Uni Workload              85 non-null     int64  \n",
      " 13  Academic Pressure         85 non-null     int64  \n",
      " 14  Financial Pressure        85 non-null     int64  \n",
      " 15  Campus Networking         85 non-null     int64  \n",
      " 16  Depression                85 non-null     int64  \n",
      " 17  Anxiety                   85 non-null     int64  \n",
      " 18  Isolation                 85 non-null     int64  \n",
      " 19  Future Insecurity         85 non-null     int64  \n",
      " 20  Stress Relief Activities  85 non-null     object \n",
      " 21  Field Stress              85 non-null     int64  \n",
      " 22  Stress Score              85 non-null     int64  \n",
      " 23  Stress Level              85 non-null     int64  \n",
      "dtypes: float64(1), int64(20), object(3)\n",
      "memory usage: 16.1+ KB\n"
     ]
    }
   ],
   "source": [
    "df.info()"
   ]
  },
  {
   "cell_type": "code",
   "execution_count": 4,
   "id": "5bd046f9-c4be-40dd-b2d7-0b487d6285eb",
   "metadata": {},
   "outputs": [
    {
     "data": {
      "text/html": [
       "<div>\n",
       "<style scoped>\n",
       "    .dataframe tbody tr th:only-of-type {\n",
       "        vertical-align: middle;\n",
       "    }\n",
       "\n",
       "    .dataframe tbody tr th {\n",
       "        vertical-align: top;\n",
       "    }\n",
       "\n",
       "    .dataframe thead th {\n",
       "        text-align: right;\n",
       "    }\n",
       "</style>\n",
       "<table border=\"1\" class=\"dataframe\">\n",
       "  <thead>\n",
       "    <tr style=\"text-align: right;\">\n",
       "      <th></th>\n",
       "      <th>Gender</th>\n",
       "      <th>Age</th>\n",
       "      <th>University</th>\n",
       "      <th>Degree Level</th>\n",
       "      <th>Year</th>\n",
       "      <th>Course</th>\n",
       "      <th>CGPA</th>\n",
       "      <th>Residential Status</th>\n",
       "      <th>Campus Mistreat</th>\n",
       "      <th>Sports</th>\n",
       "      <th>...</th>\n",
       "      <th>Financial Pressure</th>\n",
       "      <th>Campus Networking</th>\n",
       "      <th>Depression</th>\n",
       "      <th>Anxiety</th>\n",
       "      <th>Isolation</th>\n",
       "      <th>Future Insecurity</th>\n",
       "      <th>Stress Relief Activities</th>\n",
       "      <th>Field Stress</th>\n",
       "      <th>Stress Score</th>\n",
       "      <th>Stress Level</th>\n",
       "    </tr>\n",
       "  </thead>\n",
       "  <tbody>\n",
       "    <tr>\n",
       "      <th>47</th>\n",
       "      <td>0</td>\n",
       "      <td>20</td>\n",
       "      <td>PU</td>\n",
       "      <td>0</td>\n",
       "      <td>3</td>\n",
       "      <td>Data Science</td>\n",
       "      <td>3.5</td>\n",
       "      <td>0</td>\n",
       "      <td>1</td>\n",
       "      <td>1</td>\n",
       "      <td>...</td>\n",
       "      <td>1</td>\n",
       "      <td>1</td>\n",
       "      <td>3</td>\n",
       "      <td>3</td>\n",
       "      <td>5</td>\n",
       "      <td>2</td>\n",
       "      <td>['Entertainment']</td>\n",
       "      <td>2</td>\n",
       "      <td>20</td>\n",
       "      <td>1</td>\n",
       "    </tr>\n",
       "    <tr>\n",
       "      <th>26</th>\n",
       "      <td>0</td>\n",
       "      <td>23</td>\n",
       "      <td>PU</td>\n",
       "      <td>0</td>\n",
       "      <td>2</td>\n",
       "      <td>Data Science</td>\n",
       "      <td>2.5</td>\n",
       "      <td>0</td>\n",
       "      <td>1</td>\n",
       "      <td>2</td>\n",
       "      <td>...</td>\n",
       "      <td>1</td>\n",
       "      <td>4</td>\n",
       "      <td>3</td>\n",
       "      <td>3</td>\n",
       "      <td>2</td>\n",
       "      <td>3</td>\n",
       "      <td>['Religious', 'Entertainment', 'Outdoor']</td>\n",
       "      <td>3</td>\n",
       "      <td>18</td>\n",
       "      <td>1</td>\n",
       "    </tr>\n",
       "    <tr>\n",
       "      <th>50</th>\n",
       "      <td>0</td>\n",
       "      <td>21</td>\n",
       "      <td>PU</td>\n",
       "      <td>0</td>\n",
       "      <td>2</td>\n",
       "      <td>Data Science</td>\n",
       "      <td>3.5</td>\n",
       "      <td>1</td>\n",
       "      <td>0</td>\n",
       "      <td>2</td>\n",
       "      <td>...</td>\n",
       "      <td>4</td>\n",
       "      <td>5</td>\n",
       "      <td>2</td>\n",
       "      <td>2</td>\n",
       "      <td>2</td>\n",
       "      <td>3</td>\n",
       "      <td>['Religious', 'Social Connections', 'Entertain...</td>\n",
       "      <td>1</td>\n",
       "      <td>18</td>\n",
       "      <td>1</td>\n",
       "    </tr>\n",
       "    <tr>\n",
       "      <th>34</th>\n",
       "      <td>1</td>\n",
       "      <td>17</td>\n",
       "      <td>PU</td>\n",
       "      <td>0</td>\n",
       "      <td>1</td>\n",
       "      <td>Computer Science</td>\n",
       "      <td>3.5</td>\n",
       "      <td>1</td>\n",
       "      <td>0</td>\n",
       "      <td>1</td>\n",
       "      <td>...</td>\n",
       "      <td>5</td>\n",
       "      <td>1</td>\n",
       "      <td>5</td>\n",
       "      <td>5</td>\n",
       "      <td>5</td>\n",
       "      <td>3</td>\n",
       "      <td>['Sleep']</td>\n",
       "      <td>2</td>\n",
       "      <td>30</td>\n",
       "      <td>2</td>\n",
       "    </tr>\n",
       "    <tr>\n",
       "      <th>46</th>\n",
       "      <td>0</td>\n",
       "      <td>21</td>\n",
       "      <td>PU</td>\n",
       "      <td>0</td>\n",
       "      <td>4</td>\n",
       "      <td>Software Engineering</td>\n",
       "      <td>3.5</td>\n",
       "      <td>0</td>\n",
       "      <td>1</td>\n",
       "      <td>2</td>\n",
       "      <td>...</td>\n",
       "      <td>4</td>\n",
       "      <td>3</td>\n",
       "      <td>5</td>\n",
       "      <td>5</td>\n",
       "      <td>5</td>\n",
       "      <td>5</td>\n",
       "      <td>['Religious', 'Fitness', 'Creative Outlets', '...</td>\n",
       "      <td>3</td>\n",
       "      <td>31</td>\n",
       "      <td>2</td>\n",
       "    </tr>\n",
       "  </tbody>\n",
       "</table>\n",
       "<p>5 rows × 24 columns</p>\n",
       "</div>"
      ],
      "text/plain": [
       "    Gender  Age University  Degree Level  Year                Course  CGPA   \n",
       "47       0   20         PU             0     3          Data Science   3.5  \\\n",
       "26       0   23         PU             0     2          Data Science   2.5   \n",
       "50       0   21         PU             0     2          Data Science   3.5   \n",
       "34       1   17         PU             0     1      Computer Science   3.5   \n",
       "46       0   21         PU             0     4  Software Engineering   3.5   \n",
       "\n",
       "    Residential Status  Campus Mistreat  Sports  ...  Financial Pressure   \n",
       "47                   0                1       1  ...                   1  \\\n",
       "26                   0                1       2  ...                   1   \n",
       "50                   1                0       2  ...                   4   \n",
       "34                   1                0       1  ...                   5   \n",
       "46                   0                1       2  ...                   4   \n",
       "\n",
       "    Campus Networking  Depression  Anxiety  Isolation  Future Insecurity   \n",
       "47                  1           3        3          5                  2  \\\n",
       "26                  4           3        3          2                  3   \n",
       "50                  5           2        2          2                  3   \n",
       "34                  1           5        5          5                  3   \n",
       "46                  3           5        5          5                  5   \n",
       "\n",
       "                             Stress Relief Activities  Field Stress   \n",
       "47                                  ['Entertainment']             2  \\\n",
       "26          ['Religious', 'Entertainment', 'Outdoor']             3   \n",
       "50  ['Religious', 'Social Connections', 'Entertain...             1   \n",
       "34                                          ['Sleep']             2   \n",
       "46  ['Religious', 'Fitness', 'Creative Outlets', '...             3   \n",
       "\n",
       "    Stress Score  Stress Level  \n",
       "47            20             1  \n",
       "26            18             1  \n",
       "50            18             1  \n",
       "34            30             2  \n",
       "46            31             2  \n",
       "\n",
       "[5 rows x 24 columns]"
      ]
     },
     "execution_count": 4,
     "metadata": {},
     "output_type": "execute_result"
    }
   ],
   "source": [
    "df.sample(5)"
   ]
  },
  {
   "cell_type": "code",
   "execution_count": 5,
   "id": "92a4d181-2149-4c6f-a753-6e22c075a07f",
   "metadata": {},
   "outputs": [
    {
     "data": {
      "image/png": "[encoded data removed]",
      "text/plain": [
       "<Figure size 1200x800 with 2 Axes>"
      ]
     },
     "metadata": {},
     "output_type": "display_data"
    }
   ],
   "source": [
    "x = df[\n",
    "    ['Gender', 'Age', 'Degree Level', 'Year', 'Sports', 'Sleep', 'Field Satisfaction', 'Uni Workload',\n",
    "     'Academic Pressure', 'Financial Pressure', 'Depression', 'Anxiety', 'Isolation', 'Stress Level']\n",
    "]\n",
    "\n",
    "correlation_matrix = x.corr()\n",
    "\n",
    "# Sort columns based on their overall correlation\n",
    "sorted_columns = correlation_matrix.abs().sum(axis=0).sort_values(ascending=False).index\n",
    "correlation_matrix = correlation_matrix.reindex(index=sorted_columns, columns=sorted_columns)\n",
    "\n",
    "plt.figure(figsize=(12, 8))\n",
    "sns.heatmap(correlation_matrix, annot=True, cmap=\"coolwarm\", fmt=\".2f\")\n",
    "plt.title(\"Correlation Coefficient Heatmap\")\n",
    "plt.show()"
   ]
  },
  {
   "cell_type": "markdown",
   "id": "65dfeda5-e7c3-4881-a27b-4464655c581b",
   "metadata": {},
   "source": [
    "## Random Forest Classification\n",
    "\n",
    "- [RF Stress Level](#RF-Stress-Level)\n",
    "- [RF Depression](#RF-Depression)"
   ]
  },
  {
   "cell_type": "code",
   "execution_count": 6,
   "id": "5561df32-8454-49f5-b778-14c3d5ac6bcd",
   "metadata": {},
   "outputs": [],
   "source": [
    "X = df.drop(\n",
    "    ['Stress Level', 'Depression', 'University', 'Course', 'Stress Relief Activities', 'Field Stress'], axis=1\n",
    ")\n",
    "\n",
    "y1 = df['Stress Level']\n",
    "y2 = df['Depression']"
   ]
  },
  {
   "cell_type": "code",
   "execution_count": 7,
   "id": "c4f87f24-2193-4369-b451-53d04720d042",
   "metadata": {},
   "outputs": [
    {
     "data": {
      "text/plain": [
       "Index(['Gender', 'Age', 'Degree Level', 'Year', 'CGPA', 'Residential Status',\n",
       "       'Campus Mistreat', 'Sports', 'Sleep', 'Field Satisfaction',\n",
       "       'Uni Workload', 'Academic Pressure', 'Financial Pressure',\n",
       "       'Campus Networking', 'Anxiety', 'Isolation', 'Future Insecurity',\n",
       "       'Stress Score'],\n",
       "      dtype='object')"
      ]
     },
     "execution_count": 7,
     "metadata": {},
     "output_type": "execute_result"
    }
   ],
   "source": [
    "X.columns"
   ]
  },
  {
   "cell_type": "code",
   "execution_count": 8,
   "id": "1429a7ef-fea0-4766-bb84-5c46c7b98c29",
   "metadata": {},
   "outputs": [
    {
     "data": {
      "text/plain": [
       "(0.00414520161104489, -0.27181368258283406)"
      ]
     },
     "execution_count": 8,
     "metadata": {},
     "output_type": "execute_result"
    }
   ],
   "source": [
    "df['Stress Level'].skew(), df['Depression'].skew()"
   ]
  },
  {
   "cell_type": "code",
   "execution_count": 9,
   "id": "9313fc65-fca3-4f20-a897-916e45b32af7",
   "metadata": {},
   "outputs": [],
   "source": [
    "def find_best_n_estimators(X, y, cv=5):\n",
    "    n_estimators_values = [\n",
    "        10, 20, 50, 100, 200, 500, 1000\n",
    "    ]\n",
    "    cv_scores = {}\n",
    "\n",
    "    for n_estimators in n_estimators_values:\n",
    "        rf_model = RandomForestClassifier(n_estimators=n_estimators)\n",
    "        scores = cross_val_score(rf_model, X, y, cv=cv)\n",
    "        cv_scores[n_estimators] = scores.mean()\n",
    "\n",
    "    return cv_scores"
   ]
  },
  {
   "cell_type": "markdown",
   "id": "56961249-5b9b-4e74-b1de-6786ca6b11ed",
   "metadata": {},
   "source": [
    "### RF Stress Level"
   ]
  },
  {
   "cell_type": "code",
   "execution_count": 10,
   "id": "e58ccf8e-3ffe-4d22-a275-b65dbb7b6487",
   "metadata": {},
   "outputs": [],
   "source": [
    "X1_train, X1_test, y1_train, y1_test = train_test_split(X, y1, test_size=0.2, stratify=y1, random_state=42)"
   ]
  },
  {
   "cell_type": "code",
   "execution_count": 11,
   "id": "ebc4d1b0-3445-43ee-b44c-c182c3beaa97",
   "metadata": {},
   "outputs": [
    {
     "data": {
      "text/html": [
       "<div>\n",
       "<style scoped>\n",
       "    .dataframe tbody tr th:only-of-type {\n",
       "        vertical-align: middle;\n",
       "    }\n",
       "\n",
       "    .dataframe tbody tr th {\n",
       "        vertical-align: top;\n",
       "    }\n",
       "\n",
       "    .dataframe thead th {\n",
       "        text-align: right;\n",
       "    }\n",
       "</style>\n",
       "<table border=\"1\" class=\"dataframe\">\n",
       "  <thead>\n",
       "    <tr style=\"text-align: right;\">\n",
       "      <th></th>\n",
       "      <th>Gender</th>\n",
       "      <th>Age</th>\n",
       "      <th>Degree Level</th>\n",
       "      <th>Year</th>\n",
       "      <th>CGPA</th>\n",
       "      <th>Residential Status</th>\n",
       "      <th>Campus Mistreat</th>\n",
       "      <th>Sports</th>\n",
       "      <th>Sleep</th>\n",
       "      <th>Field Satisfaction</th>\n",
       "      <th>Uni Workload</th>\n",
       "      <th>Academic Pressure</th>\n",
       "      <th>Financial Pressure</th>\n",
       "      <th>Campus Networking</th>\n",
       "      <th>Anxiety</th>\n",
       "      <th>Isolation</th>\n",
       "      <th>Future Insecurity</th>\n",
       "      <th>Stress Score</th>\n",
       "    </tr>\n",
       "  </thead>\n",
       "  <tbody>\n",
       "    <tr>\n",
       "      <th>15</th>\n",
       "      <td>1</td>\n",
       "      <td>19</td>\n",
       "      <td>0</td>\n",
       "      <td>1</td>\n",
       "      <td>3.0</td>\n",
       "      <td>0</td>\n",
       "      <td>1</td>\n",
       "      <td>1</td>\n",
       "      <td>3</td>\n",
       "      <td>5</td>\n",
       "      <td>3</td>\n",
       "      <td>3</td>\n",
       "      <td>4</td>\n",
       "      <td>3</td>\n",
       "      <td>1</td>\n",
       "      <td>1</td>\n",
       "      <td>3</td>\n",
       "      <td>14</td>\n",
       "    </tr>\n",
       "    <tr>\n",
       "      <th>55</th>\n",
       "      <td>0</td>\n",
       "      <td>21</td>\n",
       "      <td>0</td>\n",
       "      <td>2</td>\n",
       "      <td>2.5</td>\n",
       "      <td>1</td>\n",
       "      <td>1</td>\n",
       "      <td>3</td>\n",
       "      <td>2</td>\n",
       "      <td>3</td>\n",
       "      <td>4</td>\n",
       "      <td>5</td>\n",
       "      <td>3</td>\n",
       "      <td>4</td>\n",
       "      <td>1</td>\n",
       "      <td>1</td>\n",
       "      <td>1</td>\n",
       "      <td>14</td>\n",
       "    </tr>\n",
       "    <tr>\n",
       "      <th>40</th>\n",
       "      <td>1</td>\n",
       "      <td>19</td>\n",
       "      <td>0</td>\n",
       "      <td>2</td>\n",
       "      <td>2.5</td>\n",
       "      <td>0</td>\n",
       "      <td>0</td>\n",
       "      <td>2</td>\n",
       "      <td>2</td>\n",
       "      <td>4</td>\n",
       "      <td>4</td>\n",
       "      <td>4</td>\n",
       "      <td>4</td>\n",
       "      <td>1</td>\n",
       "      <td>1</td>\n",
       "      <td>1</td>\n",
       "      <td>4</td>\n",
       "      <td>17</td>\n",
       "    </tr>\n",
       "    <tr>\n",
       "      <th>19</th>\n",
       "      <td>0</td>\n",
       "      <td>19</td>\n",
       "      <td>0</td>\n",
       "      <td>1</td>\n",
       "      <td>3.5</td>\n",
       "      <td>0</td>\n",
       "      <td>1</td>\n",
       "      <td>2</td>\n",
       "      <td>2</td>\n",
       "      <td>5</td>\n",
       "      <td>4</td>\n",
       "      <td>4</td>\n",
       "      <td>5</td>\n",
       "      <td>3</td>\n",
       "      <td>5</td>\n",
       "      <td>4</td>\n",
       "      <td>3</td>\n",
       "      <td>27</td>\n",
       "    </tr>\n",
       "    <tr>\n",
       "      <th>67</th>\n",
       "      <td>0</td>\n",
       "      <td>20</td>\n",
       "      <td>0</td>\n",
       "      <td>3</td>\n",
       "      <td>2.5</td>\n",
       "      <td>0</td>\n",
       "      <td>0</td>\n",
       "      <td>2</td>\n",
       "      <td>2</td>\n",
       "      <td>4</td>\n",
       "      <td>5</td>\n",
       "      <td>5</td>\n",
       "      <td>1</td>\n",
       "      <td>5</td>\n",
       "      <td>4</td>\n",
       "      <td>1</td>\n",
       "      <td>1</td>\n",
       "      <td>17</td>\n",
       "    </tr>\n",
       "  </tbody>\n",
       "</table>\n",
       "</div>"
      ],
      "text/plain": [
       "    Gender  Age  Degree Level  Year  CGPA  Residential Status   \n",
       "15       1   19             0     1   3.0                   0  \\\n",
       "55       0   21             0     2   2.5                   1   \n",
       "40       1   19             0     2   2.5                   0   \n",
       "19       0   19             0     1   3.5                   0   \n",
       "67       0   20             0     3   2.5                   0   \n",
       "\n",
       "    Campus Mistreat  Sports  Sleep  Field Satisfaction  Uni Workload   \n",
       "15                1       1      3                   5             3  \\\n",
       "55                1       3      2                   3             4   \n",
       "40                0       2      2                   4             4   \n",
       "19                1       2      2                   5             4   \n",
       "67                0       2      2                   4             5   \n",
       "\n",
       "    Academic Pressure  Financial Pressure  Campus Networking  Anxiety   \n",
       "15                  3                   4                  3        1  \\\n",
       "55                  5                   3                  4        1   \n",
       "40                  4                   4                  1        1   \n",
       "19                  4                   5                  3        5   \n",
       "67                  5                   1                  5        4   \n",
       "\n",
       "    Isolation  Future Insecurity  Stress Score  \n",
       "15          1                  3            14  \n",
       "55          1                  1            14  \n",
       "40          1                  4            17  \n",
       "19          4                  3            27  \n",
       "67          1                  1            17  "
      ]
     },
     "execution_count": 11,
     "metadata": {},
     "output_type": "execute_result"
    }
   ],
   "source": [
    "X1_train.head()"
   ]
  },
  {
   "cell_type": "code",
   "execution_count": 18,
   "id": "ae24f20e-6dcb-4bee-b42e-262419cb861c",
   "metadata": {},
   "outputs": [
    {
     "data": {
      "text/plain": [
       "{10: 0.9529411764705882,\n",
       " 20: 0.9176470588235294,\n",
       " 50: 0.9647058823529411,\n",
       " 100: 0.9647058823529411,\n",
       " 200: 0.9529411764705882,\n",
       " 500: 0.9529411764705882,\n",
       " 1000: 0.9647058823529411}"
      ]
     },
     "execution_count": 18,
     "metadata": {},
     "output_type": "execute_result"
    }
   ],
   "source": [
    "find_best_n_estimators(X, y1)"
   ]
  },
  {
   "cell_type": "code",
   "execution_count": 56,
   "id": "e4bf6e53-2838-4163-910a-5e8e2941b657",
   "metadata": {},
   "outputs": [
    {
     "data": {
      "text/html": [
       "<style>#sk-container-id-6 {color: black;}#sk-container-id-6 pre{padding: 0;}#sk-container-id-6 div.sk-toggleable {background-color: white;}#sk-container-id-6 label.sk-toggleable__label {cursor: pointer;display: block;width: 100%;margin-bottom: 0;padding: 0.3em;box-sizing: border-box;text-align: center;}#sk-container-id-6 label.sk-toggleable__label-arrow:before {content: \"▸\";float: left;margin-right: 0.25em;color: #696969;}#sk-container-id-6 label.sk-toggleable__label-arrow:hover:before {color: black;}#sk-container-id-6 div.sk-estimator:hover label.sk-toggleable__label-arrow:before {color: black;}#sk-container-id-6 div.sk-toggleable__content {max-height: 0;max-width: 0;overflow: hidden;text-align: left;background-color: #f0f8ff;}#sk-container-id-6 div.sk-toggleable__content pre {margin: 0.2em;color: black;border-radius: 0.25em;background-color: #f0f8ff;}#sk-container-id-6 input.sk-toggleable__control:checked~div.sk-toggleable__content {max-height: 200px;max-width: 100%;overflow: auto;}#sk-container-id-6 input.sk-toggleable__control:checked~label.sk-toggleable__label-arrow:before {content: \"▾\";}#sk-container-id-6 div.sk-estimator input.sk-toggleable__control:checked~label.sk-toggleable__label {background-color: #d4ebff;}#sk-container-id-6 div.sk-label input.sk-toggleable__control:checked~label.sk-toggleable__label {background-color: #d4ebff;}#sk-container-id-6 input.sk-hidden--visually {border: 0;clip: rect(1px 1px 1px 1px);clip: rect(1px, 1px, 1px, 1px);height: 1px;margin: -1px;overflow: hidden;padding: 0;position: absolute;width: 1px;}#sk-container-id-6 div.sk-estimator {font-family: monospace;background-color: #f0f8ff;border: 1px dotted black;border-radius: 0.25em;box-sizing: border-box;margin-bottom: 0.5em;}#sk-container-id-6 div.sk-estimator:hover {background-color: #d4ebff;}#sk-container-id-6 div.sk-parallel-item::after {content: \"\";width: 100%;border-bottom: 1px solid gray;flex-grow: 1;}#sk-container-id-6 div.sk-label:hover label.sk-toggleable__label {background-color: #d4ebff;}#sk-container-id-6 div.sk-serial::before {content: \"\";position: absolute;border-left: 1px solid gray;box-sizing: border-box;top: 0;bottom: 0;left: 50%;z-index: 0;}#sk-container-id-6 div.sk-serial {display: flex;flex-direction: column;align-items: center;background-color: white;padding-right: 0.2em;padding-left: 0.2em;position: relative;}#sk-container-id-6 div.sk-item {position: relative;z-index: 1;}#sk-container-id-6 div.sk-parallel {display: flex;align-items: stretch;justify-content: center;background-color: white;position: relative;}#sk-container-id-6 div.sk-item::before, #sk-container-id-6 div.sk-parallel-item::before {content: \"\";position: absolute;border-left: 1px solid gray;box-sizing: border-box;top: 0;bottom: 0;left: 50%;z-index: -1;}#sk-container-id-6 div.sk-parallel-item {display: flex;flex-direction: column;z-index: 1;position: relative;background-color: white;}#sk-container-id-6 div.sk-parallel-item:first-child::after {align-self: flex-end;width: 50%;}#sk-container-id-6 div.sk-parallel-item:last-child::after {align-self: flex-start;width: 50%;}#sk-container-id-6 div.sk-parallel-item:only-child::after {width: 0;}#sk-container-id-6 div.sk-dashed-wrapped {border: 1px dashed gray;margin: 0 0.4em 0.5em 0.4em;box-sizing: border-box;padding-bottom: 0.4em;background-color: white;}#sk-container-id-6 div.sk-label label {font-family: monospace;font-weight: bold;display: inline-block;line-height: 1.2em;}#sk-container-id-6 div.sk-label-container {text-align: center;}#sk-container-id-6 div.sk-container {/* jupyter's `normalize.less` sets `[hidden] { display: none; }` but bootstrap.min.css set `[hidden] { display: none !important; }` so we also need the `!important` here to be able to override the default hidden behavior on the sphinx rendered scikit-learn.org. See: https://github.com/scikit-learn/scikit-learn/issues/21755 */display: inline-block !important;position: relative;}#sk-container-id-6 div.sk-text-repr-fallback {display: none;}</style><div id=\"sk-container-id-6\" class=\"sk-top-container\"><div class=\"sk-text-repr-fallback\"><pre>RandomForestClassifier(n_estimators=10)</pre><b>In a Jupyter environment, please rerun this cell to show the HTML representation or trust the notebook. <br />On GitHub, the HTML representation is unable to render, please try loading this page with nbviewer.org.</b></div><div class=\"sk-container\" hidden><div class=\"sk-item\"><div class=\"sk-estimator sk-toggleable\"><input class=\"sk-toggleable__control sk-hidden--visually\" id=\"sk-estimator-id-6\" type=\"checkbox\" checked><label for=\"sk-estimator-id-6\" class=\"sk-toggleable__label sk-toggleable__label-arrow\">RandomForestClassifier</label><div class=\"sk-toggleable__content\"><pre>RandomForestClassifier(n_estimators=10)</pre></div></div></div></div></div>"
      ],
      "text/plain": [
       "RandomForestClassifier(n_estimators=10)"
      ]
     },
     "execution_count": 56,
     "metadata": {},
     "output_type": "execute_result"
    }
   ],
   "source": [
    "rf_stress_level = RandomForestClassifier(n_estimators=10)\n",
    "rf_stress_level.fit(X1_train, y1_train)"
   ]
  },
  {
   "cell_type": "code",
   "execution_count": 57,
   "id": "5882586f-627d-44ac-8c0d-51deb7d25be4",
   "metadata": {},
   "outputs": [
    {
     "data": {
      "text/plain": [
       "array([0, 2, 1, 1, 1, 2, 1, 1, 1, 1, 1, 0, 1, 1, 1, 1, 1], dtype=int64)"
      ]
     },
     "execution_count": 57,
     "metadata": {},
     "output_type": "execute_result"
    }
   ],
   "source": [
    "y1_pred = rf_stress_level.predict(X1_test)\n",
    "y1_pred"
   ]
  },
  {
   "cell_type": "code",
   "execution_count": 58,
   "id": "0709eb5c-8f1f-48a0-bcac-0148eaa8c58c",
   "metadata": {},
   "outputs": [
    {
     "name": "stdout",
     "output_type": "stream",
     "text": [
      "Stress Level Classification Report:\n",
      "              precision    recall  f1-score   support\n",
      "\n",
      "           0       1.00      1.00      1.00         2\n",
      "           1       0.92      1.00      0.96        12\n",
      "           2       1.00      0.67      0.80         3\n",
      "\n",
      "    accuracy                           0.94        17\n",
      "   macro avg       0.97      0.89      0.92        17\n",
      "weighted avg       0.95      0.94      0.94        17\n",
      "\n"
     ]
    }
   ],
   "source": [
    "print(\"Stress Level Classification Report:\")\n",
    "print(classification_report(y1_test, y1_pred))"
   ]
  },
  {
   "cell_type": "code",
   "execution_count": 59,
   "id": "dc1caf65-c416-4c89-88f8-7ff1ce4f2961",
   "metadata": {},
   "outputs": [
    {
     "data": {
      "text/plain": [
       "0.9411764705882353"
      ]
     },
     "execution_count": 59,
     "metadata": {},
     "output_type": "execute_result"
    }
   ],
   "source": [
    "accuracy_score(y1_test, y1_pred)"
   ]
  },
  {
   "cell_type": "code",
   "execution_count": 60,
   "id": "7e344f45-f887-415b-b5a2-1f60ca981163",
   "metadata": {},
   "outputs": [
    {
     "data": {
      "image/png": "[encoded data removed]",
      "text/plain": [
       "<Figure size 600x400 with 2 Axes>"
      ]
     },
     "metadata": {},
     "output_type": "display_data"
    }
   ],
   "source": [
    "cm = confusion_matrix(y1_test, y1_pred)\n",
    "\n",
    "plt.figure(figsize=(6, 4))\n",
    "sns.heatmap(cm, annot=True)\n",
    "\n",
    "plt.title('Predicted vs Truth')\n",
    "plt.xlabel('Predicted')\n",
    "plt.ylabel('Truth')\n",
    "\n",
    "plt.show()"
   ]
  },
  {
   "cell_type": "code",
   "execution_count": 61,
   "id": "68edcab1-7ca7-4efb-9b16-90436781223e",
   "metadata": {},
   "outputs": [
    {
     "data": {
      "text/plain": [
       "['../FastAPI Workspace/model/rfStressLevel.joblib']"
      ]
     },
     "execution_count": 61,
     "metadata": {},
     "output_type": "execute_result"
    }
   ],
   "source": [
    "# Save model\n",
    "dump(rf_stress_level, '../FastAPI Workspace/model/rfStressLevel.joblib')"
   ]
  },
  {
   "cell_type": "code",
   "execution_count": 62,
   "id": "7d6943ad-19c6-4925-9afb-cd3e912e8d39",
   "metadata": {},
   "outputs": [
    {
     "name": "stdout",
     "output_type": "stream",
     "text": [
      "\n",
      "Feature Importances for Stress Level:\n",
      "               Feature  Importance1\n",
      "17        Stress Score     0.347131\n",
      "14             Anxiety     0.137841\n",
      "16   Future Insecurity     0.097532\n",
      "15           Isolation     0.087339\n",
      "12  Financial Pressure     0.086818\n",
      "10        Uni Workload     0.055727\n",
      "1                  Age     0.047788\n",
      "13   Campus Networking     0.043692\n",
      "5   Residential Status     0.019680\n",
      "4                 CGPA     0.016771\n",
      "6      Campus Mistreat     0.016027\n",
      "9   Field Satisfaction     0.012168\n",
      "11   Academic Pressure     0.009737\n",
      "7               Sports     0.006661\n",
      "8                Sleep     0.005886\n",
      "0               Gender     0.004317\n",
      "3                 Year     0.002586\n",
      "2         Degree Level     0.002297\n"
     ]
    }
   ],
   "source": [
    "feature1 = pd.DataFrame(\n",
    "    {'Feature': X.columns, 'Importance1': rf_stress_level.feature_importances_}\n",
    ")\n",
    "\n",
    "feature_stress_level = feature1.sort_values(\n",
    "    by='Importance1', ascending=False\n",
    ")\n",
    "\n",
    "print(\"\\nFeature Importances for Stress Level:\")\n",
    "print(feature_stress_level)"
   ]
  },
  {
   "cell_type": "markdown",
   "id": "45794291-d18e-4906-821b-79b018c12b22",
   "metadata": {},
   "source": [
    "### RF Depression"
   ]
  },
  {
   "cell_type": "code",
   "execution_count": 26,
   "id": "f82ba596-b0c6-4c35-b6e7-47b6a7a5bd14",
   "metadata": {},
   "outputs": [],
   "source": [
    "X2_train, X2_test, y2_train, y2_test = train_test_split(X, y2, test_size=0.2, stratify=y2, random_state=42)"
   ]
  },
  {
   "cell_type": "code",
   "execution_count": 27,
   "id": "2992fc4f-1243-4e92-8398-8081bdb2c66b",
   "metadata": {},
   "outputs": [
    {
     "data": {
      "text/html": [
       "<div>\n",
       "<style scoped>\n",
       "    .dataframe tbody tr th:only-of-type {\n",
       "        vertical-align: middle;\n",
       "    }\n",
       "\n",
       "    .dataframe tbody tr th {\n",
       "        vertical-align: top;\n",
       "    }\n",
       "\n",
       "    .dataframe thead th {\n",
       "        text-align: right;\n",
       "    }\n",
       "</style>\n",
       "<table border=\"1\" class=\"dataframe\">\n",
       "  <thead>\n",
       "    <tr style=\"text-align: right;\">\n",
       "      <th></th>\n",
       "      <th>Gender</th>\n",
       "      <th>Age</th>\n",
       "      <th>Degree Level</th>\n",
       "      <th>Year</th>\n",
       "      <th>CGPA</th>\n",
       "      <th>Residential Status</th>\n",
       "      <th>Campus Mistreat</th>\n",
       "      <th>Sports</th>\n",
       "      <th>Sleep</th>\n",
       "      <th>Field Satisfaction</th>\n",
       "      <th>Uni Workload</th>\n",
       "      <th>Academic Pressure</th>\n",
       "      <th>Financial Pressure</th>\n",
       "      <th>Campus Networking</th>\n",
       "      <th>Anxiety</th>\n",
       "      <th>Isolation</th>\n",
       "      <th>Future Insecurity</th>\n",
       "      <th>Stress Score</th>\n",
       "    </tr>\n",
       "  </thead>\n",
       "  <tbody>\n",
       "    <tr>\n",
       "      <th>30</th>\n",
       "      <td>0</td>\n",
       "      <td>18</td>\n",
       "      <td>0</td>\n",
       "      <td>1</td>\n",
       "      <td>3.5</td>\n",
       "      <td>0</td>\n",
       "      <td>0</td>\n",
       "      <td>1</td>\n",
       "      <td>3</td>\n",
       "      <td>5</td>\n",
       "      <td>3</td>\n",
       "      <td>1</td>\n",
       "      <td>1</td>\n",
       "      <td>3</td>\n",
       "      <td>2</td>\n",
       "      <td>2</td>\n",
       "      <td>1</td>\n",
       "      <td>11</td>\n",
       "    </tr>\n",
       "    <tr>\n",
       "      <th>62</th>\n",
       "      <td>0</td>\n",
       "      <td>20</td>\n",
       "      <td>0</td>\n",
       "      <td>3</td>\n",
       "      <td>3.0</td>\n",
       "      <td>0</td>\n",
       "      <td>0</td>\n",
       "      <td>2</td>\n",
       "      <td>2</td>\n",
       "      <td>3</td>\n",
       "      <td>4</td>\n",
       "      <td>3</td>\n",
       "      <td>4</td>\n",
       "      <td>1</td>\n",
       "      <td>2</td>\n",
       "      <td>1</td>\n",
       "      <td>3</td>\n",
       "      <td>18</td>\n",
       "    </tr>\n",
       "    <tr>\n",
       "      <th>5</th>\n",
       "      <td>1</td>\n",
       "      <td>20</td>\n",
       "      <td>0</td>\n",
       "      <td>3</td>\n",
       "      <td>3.0</td>\n",
       "      <td>0</td>\n",
       "      <td>0</td>\n",
       "      <td>1</td>\n",
       "      <td>2</td>\n",
       "      <td>4</td>\n",
       "      <td>5</td>\n",
       "      <td>5</td>\n",
       "      <td>3</td>\n",
       "      <td>3</td>\n",
       "      <td>5</td>\n",
       "      <td>5</td>\n",
       "      <td>5</td>\n",
       "      <td>30</td>\n",
       "    </tr>\n",
       "    <tr>\n",
       "      <th>68</th>\n",
       "      <td>0</td>\n",
       "      <td>20</td>\n",
       "      <td>0</td>\n",
       "      <td>3</td>\n",
       "      <td>3.5</td>\n",
       "      <td>1</td>\n",
       "      <td>0</td>\n",
       "      <td>1</td>\n",
       "      <td>2</td>\n",
       "      <td>4</td>\n",
       "      <td>5</td>\n",
       "      <td>5</td>\n",
       "      <td>3</td>\n",
       "      <td>3</td>\n",
       "      <td>2</td>\n",
       "      <td>3</td>\n",
       "      <td>3</td>\n",
       "      <td>20</td>\n",
       "    </tr>\n",
       "    <tr>\n",
       "      <th>73</th>\n",
       "      <td>1</td>\n",
       "      <td>20</td>\n",
       "      <td>0</td>\n",
       "      <td>3</td>\n",
       "      <td>3.5</td>\n",
       "      <td>0</td>\n",
       "      <td>0</td>\n",
       "      <td>1</td>\n",
       "      <td>2</td>\n",
       "      <td>5</td>\n",
       "      <td>4</td>\n",
       "      <td>5</td>\n",
       "      <td>4</td>\n",
       "      <td>1</td>\n",
       "      <td>5</td>\n",
       "      <td>5</td>\n",
       "      <td>4</td>\n",
       "      <td>27</td>\n",
       "    </tr>\n",
       "  </tbody>\n",
       "</table>\n",
       "</div>"
      ],
      "text/plain": [
       "    Gender  Age  Degree Level  Year  CGPA  Residential Status   \n",
       "30       0   18             0     1   3.5                   0  \\\n",
       "62       0   20             0     3   3.0                   0   \n",
       "5        1   20             0     3   3.0                   0   \n",
       "68       0   20             0     3   3.5                   1   \n",
       "73       1   20             0     3   3.5                   0   \n",
       "\n",
       "    Campus Mistreat  Sports  Sleep  Field Satisfaction  Uni Workload   \n",
       "30                0       1      3                   5             3  \\\n",
       "62                0       2      2                   3             4   \n",
       "5                 0       1      2                   4             5   \n",
       "68                0       1      2                   4             5   \n",
       "73                0       1      2                   5             4   \n",
       "\n",
       "    Academic Pressure  Financial Pressure  Campus Networking  Anxiety   \n",
       "30                  1                   1                  3        2  \\\n",
       "62                  3                   4                  1        2   \n",
       "5                   5                   3                  3        5   \n",
       "68                  5                   3                  3        2   \n",
       "73                  5                   4                  1        5   \n",
       "\n",
       "    Isolation  Future Insecurity  Stress Score  \n",
       "30          2                  1            11  \n",
       "62          1                  3            18  \n",
       "5           5                  5            30  \n",
       "68          3                  3            20  \n",
       "73          5                  4            27  "
      ]
     },
     "execution_count": 27,
     "metadata": {},
     "output_type": "execute_result"
    }
   ],
   "source": [
    "X2_train.head()"
   ]
  },
  {
   "cell_type": "code",
   "execution_count": 28,
   "id": "954440a8-4c34-441c-a90c-73b24bedaab1",
   "metadata": {},
   "outputs": [
    {
     "data": {
      "text/plain": [
       "{10: 0.5777777777777778,\n",
       " 20: 0.6027777777777777,\n",
       " 50: 0.6166666666666667,\n",
       " 100: 0.6680555555555555,\n",
       " 200: 0.6888888888888889,\n",
       " 500: 0.6902777777777779,\n",
       " 1000: 0.6902777777777779}"
      ]
     },
     "execution_count": 28,
     "metadata": {},
     "output_type": "execute_result"
    }
   ],
   "source": [
    "find_best_n_estimators(X, y2, cv=10)"
   ]
  },
  {
   "cell_type": "code",
   "execution_count": 33,
   "id": "de844c7a-88b3-4184-b464-6060118c8c59",
   "metadata": {},
   "outputs": [
    {
     "data": {
      "text/html": [
       "<style>#sk-container-id-4 {color: black;}#sk-container-id-4 pre{padding: 0;}#sk-container-id-4 div.sk-toggleable {background-color: white;}#sk-container-id-4 label.sk-toggleable__label {cursor: pointer;display: block;width: 100%;margin-bottom: 0;padding: 0.3em;box-sizing: border-box;text-align: center;}#sk-container-id-4 label.sk-toggleable__label-arrow:before {content: \"▸\";float: left;margin-right: 0.25em;color: #696969;}#sk-container-id-4 label.sk-toggleable__label-arrow:hover:before {color: black;}#sk-container-id-4 div.sk-estimator:hover label.sk-toggleable__label-arrow:before {color: black;}#sk-container-id-4 div.sk-toggleable__content {max-height: 0;max-width: 0;overflow: hidden;text-align: left;background-color: #f0f8ff;}#sk-container-id-4 div.sk-toggleable__content pre {margin: 0.2em;color: black;border-radius: 0.25em;background-color: #f0f8ff;}#sk-container-id-4 input.sk-toggleable__control:checked~div.sk-toggleable__content {max-height: 200px;max-width: 100%;overflow: auto;}#sk-container-id-4 input.sk-toggleable__control:checked~label.sk-toggleable__label-arrow:before {content: \"▾\";}#sk-container-id-4 div.sk-estimator input.sk-toggleable__control:checked~label.sk-toggleable__label {background-color: #d4ebff;}#sk-container-id-4 div.sk-label input.sk-toggleable__control:checked~label.sk-toggleable__label {background-color: #d4ebff;}#sk-container-id-4 input.sk-hidden--visually {border: 0;clip: rect(1px 1px 1px 1px);clip: rect(1px, 1px, 1px, 1px);height: 1px;margin: -1px;overflow: hidden;padding: 0;position: absolute;width: 1px;}#sk-container-id-4 div.sk-estimator {font-family: monospace;background-color: #f0f8ff;border: 1px dotted black;border-radius: 0.25em;box-sizing: border-box;margin-bottom: 0.5em;}#sk-container-id-4 div.sk-estimator:hover {background-color: #d4ebff;}#sk-container-id-4 div.sk-parallel-item::after {content: \"\";width: 100%;border-bottom: 1px solid gray;flex-grow: 1;}#sk-container-id-4 div.sk-label:hover label.sk-toggleable__label {background-color: #d4ebff;}#sk-container-id-4 div.sk-serial::before {content: \"\";position: absolute;border-left: 1px solid gray;box-sizing: border-box;top: 0;bottom: 0;left: 50%;z-index: 0;}#sk-container-id-4 div.sk-serial {display: flex;flex-direction: column;align-items: center;background-color: white;padding-right: 0.2em;padding-left: 0.2em;position: relative;}#sk-container-id-4 div.sk-item {position: relative;z-index: 1;}#sk-container-id-4 div.sk-parallel {display: flex;align-items: stretch;justify-content: center;background-color: white;position: relative;}#sk-container-id-4 div.sk-item::before, #sk-container-id-4 div.sk-parallel-item::before {content: \"\";position: absolute;border-left: 1px solid gray;box-sizing: border-box;top: 0;bottom: 0;left: 50%;z-index: -1;}#sk-container-id-4 div.sk-parallel-item {display: flex;flex-direction: column;z-index: 1;position: relative;background-color: white;}#sk-container-id-4 div.sk-parallel-item:first-child::after {align-self: flex-end;width: 50%;}#sk-container-id-4 div.sk-parallel-item:last-child::after {align-self: flex-start;width: 50%;}#sk-container-id-4 div.sk-parallel-item:only-child::after {width: 0;}#sk-container-id-4 div.sk-dashed-wrapped {border: 1px dashed gray;margin: 0 0.4em 0.5em 0.4em;box-sizing: border-box;padding-bottom: 0.4em;background-color: white;}#sk-container-id-4 div.sk-label label {font-family: monospace;font-weight: bold;display: inline-block;line-height: 1.2em;}#sk-container-id-4 div.sk-label-container {text-align: center;}#sk-container-id-4 div.sk-container {/* jupyter's `normalize.less` sets `[hidden] { display: none; }` but bootstrap.min.css set `[hidden] { display: none !important; }` so we also need the `!important` here to be able to override the default hidden behavior on the sphinx rendered scikit-learn.org. See: https://github.com/scikit-learn/scikit-learn/issues/21755 */display: inline-block !important;position: relative;}#sk-container-id-4 div.sk-text-repr-fallback {display: none;}</style><div id=\"sk-container-id-4\" class=\"sk-top-container\"><div class=\"sk-text-repr-fallback\"><pre>RandomForestClassifier(n_estimators=500)</pre><b>In a Jupyter environment, please rerun this cell to show the HTML representation or trust the notebook. <br />On GitHub, the HTML representation is unable to render, please try loading this page with nbviewer.org.</b></div><div class=\"sk-container\" hidden><div class=\"sk-item\"><div class=\"sk-estimator sk-toggleable\"><input class=\"sk-toggleable__control sk-hidden--visually\" id=\"sk-estimator-id-4\" type=\"checkbox\" checked><label for=\"sk-estimator-id-4\" class=\"sk-toggleable__label sk-toggleable__label-arrow\">RandomForestClassifier</label><div class=\"sk-toggleable__content\"><pre>RandomForestClassifier(n_estimators=500)</pre></div></div></div></div></div>"
      ],
      "text/plain": [
       "RandomForestClassifier(n_estimators=500)"
      ]
     },
     "execution_count": 33,
     "metadata": {},
     "output_type": "execute_result"
    }
   ],
   "source": [
    "rf_depression = RandomForestClassifier(n_estimators=500)\n",
    "rf_depression.fit(X2_train, y2_train)"
   ]
  },
  {
   "cell_type": "code",
   "execution_count": 34,
   "id": "c9a3ab3b-13d4-4ad3-9957-45cc632fafdf",
   "metadata": {},
   "outputs": [
    {
     "data": {
      "text/plain": [
       "array([1, 5, 4, 4, 3, 3, 3, 5, 2, 3, 4, 1, 4, 4, 3, 4, 3], dtype=int64)"
      ]
     },
     "execution_count": 34,
     "metadata": {},
     "output_type": "execute_result"
    }
   ],
   "source": [
    "y2_pred = rf_depression.predict(X2_test)\n",
    "y2_pred"
   ]
  },
  {
   "cell_type": "code",
   "execution_count": 35,
   "id": "25f0a027-7960-4d8a-bf2e-1303dcf7dcc2",
   "metadata": {},
   "outputs": [
    {
     "name": "stdout",
     "output_type": "stream",
     "text": [
      "Depression Classification Report:\n",
      "              precision    recall  f1-score   support\n",
      "\n",
      "           1       1.00      1.00      1.00         2\n",
      "           2       1.00      0.33      0.50         3\n",
      "           3       0.50      0.75      0.60         4\n",
      "           4       0.67      1.00      0.80         4\n",
      "           5       1.00      0.50      0.67         4\n",
      "\n",
      "    accuracy                           0.71        17\n",
      "   macro avg       0.83      0.72      0.71        17\n",
      "weighted avg       0.80      0.71      0.69        17\n",
      "\n"
     ]
    }
   ],
   "source": [
    "print(\"Depression Classification Report:\")\n",
    "print(classification_report(y2_test, y2_pred))"
   ]
  },
  {
   "cell_type": "code",
   "execution_count": 36,
   "id": "d55c7147-98de-4e07-b1c8-6c03ef1ea36c",
   "metadata": {},
   "outputs": [
    {
     "data": {
      "text/plain": [
       "0.7058823529411765"
      ]
     },
     "execution_count": 36,
     "metadata": {},
     "output_type": "execute_result"
    }
   ],
   "source": [
    "accuracy_score(y2_test, y2_pred)"
   ]
  },
  {
   "cell_type": "code",
   "execution_count": 37,
   "id": "9564948f-cb1d-4ded-83e3-9fa05603054e",
   "metadata": {},
   "outputs": [
    {
     "data": {
      "image/png": "[encoded data removed]",
      "text/plain": [
       "<Figure size 600x400 with 2 Axes>"
      ]
     },
     "metadata": {},
     "output_type": "display_data"
    }
   ],
   "source": [
    "cm = confusion_matrix(y2_test, y2_pred)\n",
    "\n",
    "plt.figure(figsize=(6, 4))\n",
    "sns.heatmap(cm, annot=True)\n",
    "\n",
    "plt.title('Predicted vs Truth')\n",
    "plt.xlabel('Predicted')\n",
    "plt.ylabel('Truth')\n",
    "\n",
    "plt.show()"
   ]
  },
  {
   "cell_type": "code",
   "execution_count": 38,
   "id": "5008241b-36f6-48eb-b39c-d3f3cf4f5af2",
   "metadata": {},
   "outputs": [
    {
     "data": {
      "text/plain": [
       "['../FastAPI Workspace/model/rfDepression.joblib']"
      ]
     },
     "execution_count": 38,
     "metadata": {},
     "output_type": "execute_result"
    }
   ],
   "source": [
    "# Save model\n",
    "dump(rf_depression, '../FastAPI Workspace/model/rfDepression.joblib')"
   ]
  },
  {
   "cell_type": "code",
   "execution_count": 39,
   "id": "68ede17a-c1ca-436a-a0bb-2ba0ea7b10a6",
   "metadata": {},
   "outputs": [
    {
     "name": "stdout",
     "output_type": "stream",
     "text": [
      "\n",
      "Feature Importances for Depression:\n",
      "               Feature  Importance2\n",
      "17        Stress Score     0.202859\n",
      "14             Anxiety     0.194291\n",
      "15           Isolation     0.088495\n",
      "16   Future Insecurity     0.063040\n",
      "12  Financial Pressure     0.059749\n",
      "13   Campus Networking     0.045953\n",
      "11   Academic Pressure     0.043430\n",
      "10        Uni Workload     0.038795\n",
      "7               Sports     0.036008\n",
      "4                 CGPA     0.035283\n",
      "3                 Year     0.034036\n",
      "9   Field Satisfaction     0.034019\n",
      "1                  Age     0.030481\n",
      "8                Sleep     0.029841\n",
      "0               Gender     0.025935\n",
      "6      Campus Mistreat     0.023328\n",
      "5   Residential Status     0.011756\n",
      "2         Degree Level     0.002702\n"
     ]
    }
   ],
   "source": [
    "feature2 = pd.DataFrame(\n",
    "    {'Feature': X.columns, 'Importance2': rf_depression.feature_importances_}\n",
    ")\n",
    "\n",
    "feature_depression = feature2.sort_values(\n",
    "    by='Importance2', ascending=False\n",
    ")\n",
    "\n",
    "print(\"\\nFeature Importances for Depression:\")\n",
    "print(feature_depression)"
   ]
  },
  {
   "cell_type": "markdown",
   "id": "4400bdc9-7a76-4a7f-9062-fd830b32bd1b",
   "metadata": {},
   "source": [
    "## Feature Importance"
   ]
  },
  {
   "cell_type": "code",
   "execution_count": 40,
   "id": "8c6081b1-54bf-4cbf-b416-15e3d0a6e7a2",
   "metadata": {},
   "outputs": [
    {
     "data": {
      "text/html": [
       "<div>\n",
       "<style scoped>\n",
       "    .dataframe tbody tr th:only-of-type {\n",
       "        vertical-align: middle;\n",
       "    }\n",
       "\n",
       "    .dataframe tbody tr th {\n",
       "        vertical-align: top;\n",
       "    }\n",
       "\n",
       "    .dataframe thead th {\n",
       "        text-align: right;\n",
       "    }\n",
       "</style>\n",
       "<table border=\"1\" class=\"dataframe\">\n",
       "  <thead>\n",
       "    <tr style=\"text-align: right;\">\n",
       "      <th></th>\n",
       "      <th>Feature</th>\n",
       "      <th>Importance1</th>\n",
       "      <th>Importance2</th>\n",
       "      <th>Total Importance</th>\n",
       "    </tr>\n",
       "  </thead>\n",
       "  <tbody>\n",
       "    <tr>\n",
       "      <th>17</th>\n",
       "      <td>Stress Score</td>\n",
       "      <td>0.430012</td>\n",
       "      <td>0.202859</td>\n",
       "      <td>0.632871</td>\n",
       "    </tr>\n",
       "    <tr>\n",
       "      <th>14</th>\n",
       "      <td>Anxiety</td>\n",
       "      <td>0.168489</td>\n",
       "      <td>0.194291</td>\n",
       "      <td>0.362780</td>\n",
       "    </tr>\n",
       "    <tr>\n",
       "      <th>15</th>\n",
       "      <td>Isolation</td>\n",
       "      <td>0.083676</td>\n",
       "      <td>0.088495</td>\n",
       "      <td>0.172170</td>\n",
       "    </tr>\n",
       "    <tr>\n",
       "      <th>16</th>\n",
       "      <td>Future Insecurity</td>\n",
       "      <td>0.071665</td>\n",
       "      <td>0.063040</td>\n",
       "      <td>0.134705</td>\n",
       "    </tr>\n",
       "    <tr>\n",
       "      <th>11</th>\n",
       "      <td>Academic Pressure</td>\n",
       "      <td>0.058642</td>\n",
       "      <td>0.043430</td>\n",
       "      <td>0.102072</td>\n",
       "    </tr>\n",
       "    <tr>\n",
       "      <th>13</th>\n",
       "      <td>Campus Networking</td>\n",
       "      <td>0.032332</td>\n",
       "      <td>0.045953</td>\n",
       "      <td>0.078285</td>\n",
       "    </tr>\n",
       "    <tr>\n",
       "      <th>12</th>\n",
       "      <td>Financial Pressure</td>\n",
       "      <td>0.015470</td>\n",
       "      <td>0.059749</td>\n",
       "      <td>0.075219</td>\n",
       "    </tr>\n",
       "    <tr>\n",
       "      <th>7</th>\n",
       "      <td>Sports</td>\n",
       "      <td>0.032294</td>\n",
       "      <td>0.036008</td>\n",
       "      <td>0.068301</td>\n",
       "    </tr>\n",
       "    <tr>\n",
       "      <th>3</th>\n",
       "      <td>Year</td>\n",
       "      <td>0.032623</td>\n",
       "      <td>0.034036</td>\n",
       "      <td>0.066659</td>\n",
       "    </tr>\n",
       "    <tr>\n",
       "      <th>10</th>\n",
       "      <td>Uni Workload</td>\n",
       "      <td>0.021058</td>\n",
       "      <td>0.038795</td>\n",
       "      <td>0.059852</td>\n",
       "    </tr>\n",
       "    <tr>\n",
       "      <th>6</th>\n",
       "      <td>Campus Mistreat</td>\n",
       "      <td>0.021514</td>\n",
       "      <td>0.023328</td>\n",
       "      <td>0.044842</td>\n",
       "    </tr>\n",
       "    <tr>\n",
       "      <th>4</th>\n",
       "      <td>CGPA</td>\n",
       "      <td>0.007337</td>\n",
       "      <td>0.035283</td>\n",
       "      <td>0.042620</td>\n",
       "    </tr>\n",
       "    <tr>\n",
       "      <th>9</th>\n",
       "      <td>Field Satisfaction</td>\n",
       "      <td>0.006911</td>\n",
       "      <td>0.034019</td>\n",
       "      <td>0.040930</td>\n",
       "    </tr>\n",
       "    <tr>\n",
       "      <th>1</th>\n",
       "      <td>Age</td>\n",
       "      <td>0.006128</td>\n",
       "      <td>0.030481</td>\n",
       "      <td>0.036609</td>\n",
       "    </tr>\n",
       "    <tr>\n",
       "      <th>0</th>\n",
       "      <td>Gender</td>\n",
       "      <td>0.004250</td>\n",
       "      <td>0.025935</td>\n",
       "      <td>0.030185</td>\n",
       "    </tr>\n",
       "    <tr>\n",
       "      <th>8</th>\n",
       "      <td>Sleep</td>\n",
       "      <td>0.000000</td>\n",
       "      <td>0.029841</td>\n",
       "      <td>0.029841</td>\n",
       "    </tr>\n",
       "    <tr>\n",
       "      <th>5</th>\n",
       "      <td>Residential Status</td>\n",
       "      <td>0.004939</td>\n",
       "      <td>0.011756</td>\n",
       "      <td>0.016695</td>\n",
       "    </tr>\n",
       "    <tr>\n",
       "      <th>2</th>\n",
       "      <td>Degree Level</td>\n",
       "      <td>0.002662</td>\n",
       "      <td>0.002702</td>\n",
       "      <td>0.005363</td>\n",
       "    </tr>\n",
       "  </tbody>\n",
       "</table>\n",
       "</div>"
      ],
      "text/plain": [
       "               Feature  Importance1  Importance2  Total Importance\n",
       "17        Stress Score     0.430012     0.202859          0.632871\n",
       "14             Anxiety     0.168489     0.194291          0.362780\n",
       "15           Isolation     0.083676     0.088495          0.172170\n",
       "16   Future Insecurity     0.071665     0.063040          0.134705\n",
       "11   Academic Pressure     0.058642     0.043430          0.102072\n",
       "13   Campus Networking     0.032332     0.045953          0.078285\n",
       "12  Financial Pressure     0.015470     0.059749          0.075219\n",
       "7               Sports     0.032294     0.036008          0.068301\n",
       "3                 Year     0.032623     0.034036          0.066659\n",
       "10        Uni Workload     0.021058     0.038795          0.059852\n",
       "6      Campus Mistreat     0.021514     0.023328          0.044842\n",
       "4                 CGPA     0.007337     0.035283          0.042620\n",
       "9   Field Satisfaction     0.006911     0.034019          0.040930\n",
       "1                  Age     0.006128     0.030481          0.036609\n",
       "0               Gender     0.004250     0.025935          0.030185\n",
       "8                Sleep     0.000000     0.029841          0.029841\n",
       "5   Residential Status     0.004939     0.011756          0.016695\n",
       "2         Degree Level     0.002662     0.002702          0.005363"
      ]
     },
     "execution_count": 40,
     "metadata": {},
     "output_type": "execute_result"
    }
   ],
   "source": [
    "df_merged = pd.merge(\n",
    "    feature1, feature2, on='Feature', how='outer'\n",
    ").fillna(0)\n",
    "\n",
    "df_merged['Total Importance'] = df_merged['Importance1'] + df_merged['Importance2']\n",
    "\n",
    "df_merged.sort_values(by='Total Importance', ascending=False)"
   ]
  },
  {
   "cell_type": "markdown",
   "id": "41e283af-6646-401a-a306-4ba8b7711b7c",
   "metadata": {},
   "source": [
    "## Testing Models"
   ]
  },
  {
   "cell_type": "code",
   "execution_count": 90,
   "id": "7e34bedb-7921-42c3-a5ec-8eef874d21e1",
   "metadata": {},
   "outputs": [],
   "source": [
    "data = {\n",
    "    'Gender': [0],\n",
    "    'Age': [20],\n",
    "    'Degree Level': [0], \n",
    "    'Year': [2], \n",
    "    'CGPA': [3.0], \n",
    "    'Residential Status': [0],\n",
    "    'Campus Mistreat': [1], \n",
    "    'Sports': [2], \n",
    "    'Sleep': [3], \n",
    "    'Field Satisfaction': [3],\n",
    "    'Uni Workload': [3], \n",
    "    'Academic Pressure': [3], \n",
    "    'Financial Pressure': [5],\n",
    "    'Campus Networking': [3], \n",
    "    'Anxiety': [2], \n",
    "    'Isolation': [2], \n",
    "    'Future Insecurity': [4],\n",
    "    'Stress Score': [25]\n",
    "}\n",
    "\n",
    "data = pd.DataFrame(data)"
   ]
  },
  {
   "cell_type": "code",
   "execution_count": 91,
   "id": "2755818e-b901-445d-b3f3-22399043a0ae",
   "metadata": {},
   "outputs": [
    {
     "name": "stdout",
     "output_type": "stream",
     "text": [
      "Stress Level Prediction: 1\n"
     ]
    }
   ],
   "source": [
    "model_stress_level = load('../FastAPI Workspace/model/rfStressLevel.joblib')\n",
    "\n",
    "prediction = model_stress_level.predict(data)\n",
    "print(f'Stress Level Prediction: {prediction[0]}')"
   ]
  },
  {
   "cell_type": "code",
   "execution_count": 92,
   "id": "278a2f64-2fec-446b-8279-0d719e731fdb",
   "metadata": {},
   "outputs": [
    {
     "name": "stdout",
     "output_type": "stream",
     "text": [
      "Depression Prediction: 3\n"
     ]
    }
   ],
   "source": [
    "model_depression = load('../FastAPI Workspace/model/rfDepression.joblib')\n",
    "\n",
    "prediction = model_depression.predict(data)\n",
    "print(f'Depression Prediction: {prediction[0]}')"
   ]
  },
  {
   "cell_type": "code",
   "execution_count": null,
   "id": "fb91b125-7478-4300-9ce5-c14dae62e137",
   "metadata": {},
   "outputs": [],
   "source": []
  }
 ],
 "metadata": {
  "kernelspec": {
   "display_name": "Python 3 (ipykernel)",
   "language": "python",
   "name": "python3"
  },
  "language_info": {
   "codemirror_mode": {
    "name": "ipython",
    "version": 3
   },
   "file_extension": ".py",
   "mimetype": "text/x-python",
   "name": "python",
   "nbconvert_exporter": "python",
   "pygments_lexer": "ipython3",
   "version": "3.11.1"
  }
 },
 "nbformat": 4,
 "nbformat_minor": 5
}
