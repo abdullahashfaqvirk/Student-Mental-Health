{
 "cells": [
  {
   "cell_type": "markdown",
   "id": "ed1fb8a5-e81c-41c2-bc46-bd7ec98b5939",
   "metadata": {},
   "source": [
    "# Mental Health Statistical Analysis\n",
    "\n",
    "- [Data Preprocessing](#Data-Preprocessing)\n",
    "- [Mental Stress Score](#Mental-Stress-Score)\n",
    "- [Statistical Analysis](#Statistical-Analysis)\n",
    "  - [Comparing Stress Levels Across Gender](#1.-Comparing-Stress-Levels-Across-Gender)\n",
    "  - [Comparing Stress Levels Across Different Years of Study](#2.-Comparing-Stress-Levels-Across-Different-Years-of-Study)\n",
    "  - [Comparing Stress Levels Across Residential Status](#3.-Comparing-Stress-Levels-Across-Residential-Status)\n",
    "  - [Comparing Stress Levels Across Different Courses](#4.-Comparing-Stress-Levels-Across-Different-Courses)\n",
    "  - [Correlation between CGPA and Stress Scores](#5.-Correlation-between-CGPA-and-Stress-Scores)\n",
    "  - [Comparing Stress Levels Across Different CGPA](#6.-Comparing-Stress-Levels-Across-Different-CGPA)\n",
    "  - [Correlation between Sports and Stress Scores](#7.-Correlation-between-Sports-and-Stress-Scores)\n",
    "  - [Comparing Stress Levels Across Sports Engagement](#8.-Comparing-Stress-Levels-Across-Sports-Engagement)\n",
    "  - [Correlation between Sleep and Stress Scores](#9.-Correlation-between-Sleep-and-Stress-Scores)\n",
    "  - [Comparing Stress Score Across Different Levels of Sleep](#10.-Comparing-Stress-Score-Across-Different-Levels-of-Sleep)\n",
    "  - [Comparing Stress Levels Across Campus Mistreatment](#11.-Comparing-Stress-Levels-Across-Campus-Mistreatment)\n",
    "  - [Association between Gender and Stress Relief Activities](#12.-Association-between-Gender-and-Stress-Relief-Activities)"
   ]
  },
  {
   "cell_type": "code",
   "execution_count": 1,
   "id": "2da299b1-6a2c-4186-ad30-47186032e34e",
   "metadata": {},
   "outputs": [],
   "source": [
    "import numpy as np\n",
    "import pandas as pd\n",
    "import seaborn as sns\n",
    "import matplotlib.pyplot as plt\n",
    "from scipy.stats import f_oneway, ttest_ind, pearsonr, chi2_contingency"
   ]
  },
  {
   "cell_type": "code",
   "execution_count": 2,
   "id": "c21aeeb3-881a-48d2-9290-3ed3776755db",
   "metadata": {},
   "outputs": [],
   "source": [
    "file_path = \"../Data/IT Student Mental Health Survey.csv\"\n",
    "\n",
    "df = pd.read_csv(file_path)"
   ]
  },
  {
   "cell_type": "markdown",
   "id": "2b2386e6-5369-4ceb-b6b7-35066ef60a02",
   "metadata": {},
   "source": [
    "## Data Preprocessing"
   ]
  },
  {
   "cell_type": "code",
   "execution_count": 3,
   "id": "cf1790be-0e3a-4fe7-bc1a-687a1ceb126c",
   "metadata": {},
   "outputs": [
    {
     "name": "stdout",
     "output_type": "stream",
     "text": [
      "Column 'Email' not found in the DataFrame\n"
     ]
    }
   ],
   "source": [
    "def drop_email_column_and_save(file_path):\n",
    "    if 'Email' in df.columns:\n",
    "        df.drop(['Email'], axis=1, inplace=True)\n",
    "        df.to_csv(file_path, index=False)\n",
    "        print(f\"Column 'Email' dropped, and changes saved to {file_path}\")\n",
    "    else:\n",
    "        print(\"Column 'Email' not found in the DataFrame\")\n",
    "\n",
    "drop_email_column_and_save(file_path)"
   ]
  },
  {
   "cell_type": "code",
   "execution_count": 4,
   "id": "7ca2cc41-f752-4930-b9be-b748788f48b4",
   "metadata": {},
   "outputs": [],
   "source": [
    "df.columns = [\n",
    "    \"Timestamp\", \"Gender\", \"Age\", \"University\", \"Degree Level\", \"Year\", \"Course\", \"CGPA\", \"Residential Status\", \n",
    "    \"Campus Mistreat\", \"Sports\", \"Sleep\", \"Field Satisfaction\", \"Uni Workload\", \"Academic Pressure\", \"Financial Pressure\", \n",
    "    \"Campus Networking\", \"Depression\", \"Anxiety\", \"Isolation\", \"Future Insecurity\", \"Stress Relief Activities\", \"Suggestions\"\n",
    "]"
   ]
  },
  {
   "cell_type": "code",
   "execution_count": 5,
   "id": "14bd8f3f-13c1-4bc3-a5cc-c317d4550f3b",
   "metadata": {},
   "outputs": [],
   "source": [
    "df.drop(\n",
    "    columns=['Timestamp', 'Suggestions'], axis=1, inplace=True\n",
    ")"
   ]
  },
  {
   "cell_type": "code",
   "execution_count": 6,
   "id": "033e542e-15c2-407c-8f43-25906bb8e431",
   "metadata": {},
   "outputs": [
    {
     "data": {
      "text/html": [
       "<div>\n",
       "<style scoped>\n",
       "    .dataframe tbody tr th:only-of-type {\n",
       "        vertical-align: middle;\n",
       "    }\n",
       "\n",
       "    .dataframe tbody tr th {\n",
       "        vertical-align: top;\n",
       "    }\n",
       "\n",
       "    .dataframe thead th {\n",
       "        text-align: right;\n",
       "    }\n",
       "</style>\n",
       "<table border=\"1\" class=\"dataframe\">\n",
       "  <thead>\n",
       "    <tr style=\"text-align: right;\">\n",
       "      <th></th>\n",
       "      <th>Gender</th>\n",
       "      <th>Age</th>\n",
       "      <th>University</th>\n",
       "      <th>Degree Level</th>\n",
       "      <th>Year</th>\n",
       "      <th>Course</th>\n",
       "      <th>CGPA</th>\n",
       "      <th>Residential Status</th>\n",
       "      <th>Campus Mistreat</th>\n",
       "      <th>Sports</th>\n",
       "      <th>...</th>\n",
       "      <th>Field Satisfaction</th>\n",
       "      <th>Uni Workload</th>\n",
       "      <th>Academic Pressure</th>\n",
       "      <th>Financial Pressure</th>\n",
       "      <th>Campus Networking</th>\n",
       "      <th>Depression</th>\n",
       "      <th>Anxiety</th>\n",
       "      <th>Isolation</th>\n",
       "      <th>Future Insecurity</th>\n",
       "      <th>Stress Relief Activities</th>\n",
       "    </tr>\n",
       "  </thead>\n",
       "  <tbody>\n",
       "    <tr>\n",
       "      <th>0</th>\n",
       "      <td>Male</td>\n",
       "      <td>20</td>\n",
       "      <td>PU</td>\n",
       "      <td>Undergraduate</td>\n",
       "      <td>2nd year</td>\n",
       "      <td>Data Science</td>\n",
       "      <td>3.0 - 3.5</td>\n",
       "      <td>Off-campus</td>\n",
       "      <td>No</td>\n",
       "      <td>Not at all</td>\n",
       "      <td>...</td>\n",
       "      <td>5</td>\n",
       "      <td>4</td>\n",
       "      <td>5</td>\n",
       "      <td>4</td>\n",
       "      <td>3</td>\n",
       "      <td>2</td>\n",
       "      <td>1</td>\n",
       "      <td>1</td>\n",
       "      <td>2</td>\n",
       "      <td>Religious Activities, Social Connections (Fami...</td>\n",
       "    </tr>\n",
       "    <tr>\n",
       "      <th>1</th>\n",
       "      <td>Male</td>\n",
       "      <td>20</td>\n",
       "      <td>UET</td>\n",
       "      <td>Postgraduate</td>\n",
       "      <td>3rd year</td>\n",
       "      <td>Computer Science</td>\n",
       "      <td>3.0 - 3.5</td>\n",
       "      <td>Off-campus</td>\n",
       "      <td>No</td>\n",
       "      <td>1 - 3</td>\n",
       "      <td>...</td>\n",
       "      <td>5</td>\n",
       "      <td>4</td>\n",
       "      <td>4</td>\n",
       "      <td>1</td>\n",
       "      <td>3</td>\n",
       "      <td>3</td>\n",
       "      <td>3</td>\n",
       "      <td>3</td>\n",
       "      <td>4</td>\n",
       "      <td>Entertainment (Watching movies, shows, gaming)</td>\n",
       "    </tr>\n",
       "    <tr>\n",
       "      <th>2</th>\n",
       "      <td>Male</td>\n",
       "      <td>20</td>\n",
       "      <td>FAST</td>\n",
       "      <td>Undergraduate</td>\n",
       "      <td>3rd year</td>\n",
       "      <td>Computer Science</td>\n",
       "      <td>2.5 - 3.0</td>\n",
       "      <td>Off-campus</td>\n",
       "      <td>No</td>\n",
       "      <td>1 - 3</td>\n",
       "      <td>...</td>\n",
       "      <td>5</td>\n",
       "      <td>5</td>\n",
       "      <td>5</td>\n",
       "      <td>3</td>\n",
       "      <td>4</td>\n",
       "      <td>2</td>\n",
       "      <td>3</td>\n",
       "      <td>3</td>\n",
       "      <td>1</td>\n",
       "      <td>Religious Activities, Exercise and Fitness, En...</td>\n",
       "    </tr>\n",
       "    <tr>\n",
       "      <th>3</th>\n",
       "      <td>Male</td>\n",
       "      <td>20</td>\n",
       "      <td>UET</td>\n",
       "      <td>Undergraduate</td>\n",
       "      <td>3rd year</td>\n",
       "      <td>Computer Science</td>\n",
       "      <td>2.5 - 3.0</td>\n",
       "      <td>On-campus (Hostelite)</td>\n",
       "      <td>No</td>\n",
       "      <td>Not at all</td>\n",
       "      <td>...</td>\n",
       "      <td>3</td>\n",
       "      <td>5</td>\n",
       "      <td>4</td>\n",
       "      <td>4</td>\n",
       "      <td>1</td>\n",
       "      <td>5</td>\n",
       "      <td>5</td>\n",
       "      <td>5</td>\n",
       "      <td>3</td>\n",
       "      <td>Entertainment (Watching movies, shows, gaming)</td>\n",
       "    </tr>\n",
       "    <tr>\n",
       "      <th>4</th>\n",
       "      <td>Female</td>\n",
       "      <td>20</td>\n",
       "      <td>UET</td>\n",
       "      <td>Undergraduate</td>\n",
       "      <td>3rd year</td>\n",
       "      <td>Computer Science</td>\n",
       "      <td>3.0 - 3.5</td>\n",
       "      <td>Off-campus</td>\n",
       "      <td>Yes</td>\n",
       "      <td>Not at all</td>\n",
       "      <td>...</td>\n",
       "      <td>3</td>\n",
       "      <td>5</td>\n",
       "      <td>5</td>\n",
       "      <td>2</td>\n",
       "      <td>3</td>\n",
       "      <td>5</td>\n",
       "      <td>5</td>\n",
       "      <td>4</td>\n",
       "      <td>4</td>\n",
       "      <td>Entertainment (Watching movies, shows, gaming)</td>\n",
       "    </tr>\n",
       "  </tbody>\n",
       "</table>\n",
       "<p>5 rows × 21 columns</p>\n",
       "</div>"
      ],
      "text/plain": [
       "   Gender Age University   Degree Level      Year            Course   \n",
       "0    Male  20         PU  Undergraduate  2nd year      Data Science  \\\n",
       "1    Male  20        UET   Postgraduate  3rd year  Computer Science   \n",
       "2    Male  20       FAST  Undergraduate  3rd year  Computer Science   \n",
       "3    Male  20        UET  Undergraduate  3rd year  Computer Science   \n",
       "4  Female  20        UET  Undergraduate  3rd year  Computer Science   \n",
       "\n",
       "        CGPA     Residential Status Campus Mistreat      Sports  ...   \n",
       "0  3.0 - 3.5             Off-campus              No  Not at all  ...  \\\n",
       "1  3.0 - 3.5             Off-campus              No       1 - 3  ...   \n",
       "2  2.5 - 3.0             Off-campus              No       1 - 3  ...   \n",
       "3  2.5 - 3.0  On-campus (Hostelite)              No  Not at all  ...   \n",
       "4  3.0 - 3.5             Off-campus             Yes  Not at all  ...   \n",
       "\n",
       "  Field Satisfaction  Uni Workload  Academic Pressure  Financial Pressure   \n",
       "0                  5             4                  5                   4  \\\n",
       "1                  5             4                  4                   1   \n",
       "2                  5             5                  5                   3   \n",
       "3                  3             5                  4                   4   \n",
       "4                  3             5                  5                   2   \n",
       "\n",
       "   Campus Networking  Depression  Anxiety  Isolation  Future Insecurity   \n",
       "0                  3           2        1          1                  2  \\\n",
       "1                  3           3        3          3                  4   \n",
       "2                  4           2        3          3                  1   \n",
       "3                  1           5        5          5                  3   \n",
       "4                  3           5        5          4                  4   \n",
       "\n",
       "                            Stress Relief Activities  \n",
       "0  Religious Activities, Social Connections (Fami...  \n",
       "1     Entertainment (Watching movies, shows, gaming)  \n",
       "2  Religious Activities, Exercise and Fitness, En...  \n",
       "3     Entertainment (Watching movies, shows, gaming)  \n",
       "4     Entertainment (Watching movies, shows, gaming)  \n",
       "\n",
       "[5 rows x 21 columns]"
      ]
     },
     "execution_count": 6,
     "metadata": {},
     "output_type": "execute_result"
    }
   ],
   "source": [
    "df.head()"
   ]
  },
  {
   "cell_type": "code",
   "execution_count": 7,
   "id": "4008553a-7183-445d-83d6-872029f745b9",
   "metadata": {},
   "outputs": [
    {
     "data": {
      "text/html": [
       "<div>\n",
       "<style scoped>\n",
       "    .dataframe tbody tr th:only-of-type {\n",
       "        vertical-align: middle;\n",
       "    }\n",
       "\n",
       "    .dataframe tbody tr th {\n",
       "        vertical-align: top;\n",
       "    }\n",
       "\n",
       "    .dataframe thead th {\n",
       "        text-align: right;\n",
       "    }\n",
       "</style>\n",
       "<table border=\"1\" class=\"dataframe\">\n",
       "  <thead>\n",
       "    <tr style=\"text-align: right;\">\n",
       "      <th></th>\n",
       "      <th>Gender</th>\n",
       "      <th>Age</th>\n",
       "      <th>University</th>\n",
       "      <th>Degree Level</th>\n",
       "      <th>Year</th>\n",
       "      <th>Course</th>\n",
       "      <th>CGPA</th>\n",
       "      <th>Residential Status</th>\n",
       "      <th>Campus Mistreat</th>\n",
       "      <th>Sports</th>\n",
       "      <th>...</th>\n",
       "      <th>Field Satisfaction</th>\n",
       "      <th>Uni Workload</th>\n",
       "      <th>Academic Pressure</th>\n",
       "      <th>Financial Pressure</th>\n",
       "      <th>Campus Networking</th>\n",
       "      <th>Depression</th>\n",
       "      <th>Anxiety</th>\n",
       "      <th>Isolation</th>\n",
       "      <th>Future Insecurity</th>\n",
       "      <th>Stress Relief Activities</th>\n",
       "    </tr>\n",
       "  </thead>\n",
       "  <tbody>\n",
       "    <tr>\n",
       "      <th>80</th>\n",
       "      <td>Female</td>\n",
       "      <td>21</td>\n",
       "      <td>PU</td>\n",
       "      <td>Undergraduate</td>\n",
       "      <td>4th year</td>\n",
       "      <td>Information Technology</td>\n",
       "      <td>3.5 - 4.0</td>\n",
       "      <td>Off-campus</td>\n",
       "      <td>Yes</td>\n",
       "      <td>Not at all</td>\n",
       "      <td>...</td>\n",
       "      <td>3</td>\n",
       "      <td>3</td>\n",
       "      <td>3</td>\n",
       "      <td>3</td>\n",
       "      <td>3</td>\n",
       "      <td>5</td>\n",
       "      <td>5</td>\n",
       "      <td>5</td>\n",
       "      <td>1</td>\n",
       "      <td>Sleep</td>\n",
       "    </tr>\n",
       "    <tr>\n",
       "      <th>81</th>\n",
       "      <td>Female</td>\n",
       "      <td>21</td>\n",
       "      <td>PU</td>\n",
       "      <td>Undergraduate</td>\n",
       "      <td>4th year</td>\n",
       "      <td>Information Technology</td>\n",
       "      <td>3.0 - 3.5</td>\n",
       "      <td>Off-campus</td>\n",
       "      <td>No</td>\n",
       "      <td>Not at all</td>\n",
       "      <td>...</td>\n",
       "      <td>3</td>\n",
       "      <td>4</td>\n",
       "      <td>4</td>\n",
       "      <td>3</td>\n",
       "      <td>4</td>\n",
       "      <td>4</td>\n",
       "      <td>4</td>\n",
       "      <td>2</td>\n",
       "      <td>4</td>\n",
       "      <td>Entertainment (Watching movies, shows, gaming)...</td>\n",
       "    </tr>\n",
       "    <tr>\n",
       "      <th>82</th>\n",
       "      <td>Male</td>\n",
       "      <td>22</td>\n",
       "      <td>PU</td>\n",
       "      <td>Undergraduate</td>\n",
       "      <td>4th year</td>\n",
       "      <td>Information Technology</td>\n",
       "      <td>2.5 - 3.0</td>\n",
       "      <td>Off-campus</td>\n",
       "      <td>No</td>\n",
       "      <td>Not at all</td>\n",
       "      <td>...</td>\n",
       "      <td>1</td>\n",
       "      <td>2</td>\n",
       "      <td>2</td>\n",
       "      <td>1</td>\n",
       "      <td>2</td>\n",
       "      <td>2</td>\n",
       "      <td>2</td>\n",
       "      <td>5</td>\n",
       "      <td>2</td>\n",
       "      <td>Religious Activities</td>\n",
       "    </tr>\n",
       "    <tr>\n",
       "      <th>83</th>\n",
       "      <td>Male</td>\n",
       "      <td>22</td>\n",
       "      <td>PU</td>\n",
       "      <td>Undergraduate</td>\n",
       "      <td>4th year</td>\n",
       "      <td>Information Technology</td>\n",
       "      <td>3.0 - 3.5</td>\n",
       "      <td>On-campus (Hostelite)</td>\n",
       "      <td>No</td>\n",
       "      <td>Not at all</td>\n",
       "      <td>...</td>\n",
       "      <td>4</td>\n",
       "      <td>3</td>\n",
       "      <td>1</td>\n",
       "      <td>4</td>\n",
       "      <td>4</td>\n",
       "      <td>2</td>\n",
       "      <td>3</td>\n",
       "      <td>1</td>\n",
       "      <td>2</td>\n",
       "      <td>Entertainment (Watching movies, shows, gaming)...</td>\n",
       "    </tr>\n",
       "    <tr>\n",
       "      <th>84</th>\n",
       "      <td>Female</td>\n",
       "      <td>22</td>\n",
       "      <td>COMSATS</td>\n",
       "      <td>Undergraduate</td>\n",
       "      <td>4th year</td>\n",
       "      <td>Software Engineering</td>\n",
       "      <td>3.5 - 4.0</td>\n",
       "      <td>Off-campus</td>\n",
       "      <td>Yes</td>\n",
       "      <td>Not at all</td>\n",
       "      <td>...</td>\n",
       "      <td>5</td>\n",
       "      <td>5</td>\n",
       "      <td>5</td>\n",
       "      <td>5</td>\n",
       "      <td>1</td>\n",
       "      <td>5</td>\n",
       "      <td>5</td>\n",
       "      <td>5</td>\n",
       "      <td>5</td>\n",
       "      <td>Religious Activities, Sleep</td>\n",
       "    </tr>\n",
       "  </tbody>\n",
       "</table>\n",
       "<p>5 rows × 21 columns</p>\n",
       "</div>"
      ],
      "text/plain": [
       "    Gender Age University   Degree Level      Year                  Course   \n",
       "80  Female  21         PU  Undergraduate  4th year  Information Technology  \\\n",
       "81  Female  21         PU  Undergraduate  4th year  Information Technology   \n",
       "82    Male  22         PU  Undergraduate  4th year  Information Technology   \n",
       "83    Male  22         PU  Undergraduate  4th year  Information Technology   \n",
       "84  Female  22    COMSATS  Undergraduate  4th year    Software Engineering   \n",
       "\n",
       "         CGPA     Residential Status Campus Mistreat      Sports  ...   \n",
       "80  3.5 - 4.0             Off-campus             Yes  Not at all  ...  \\\n",
       "81  3.0 - 3.5             Off-campus              No  Not at all  ...   \n",
       "82  2.5 - 3.0             Off-campus              No  Not at all  ...   \n",
       "83  3.0 - 3.5  On-campus (Hostelite)              No  Not at all  ...   \n",
       "84  3.5 - 4.0             Off-campus             Yes  Not at all  ...   \n",
       "\n",
       "   Field Satisfaction  Uni Workload  Academic Pressure  Financial Pressure   \n",
       "80                  3             3                  3                   3  \\\n",
       "81                  3             4                  4                   3   \n",
       "82                  1             2                  2                   1   \n",
       "83                  4             3                  1                   4   \n",
       "84                  5             5                  5                   5   \n",
       "\n",
       "    Campus Networking  Depression  Anxiety  Isolation  Future Insecurity   \n",
       "80                  3           5        5          5                  1  \\\n",
       "81                  4           4        4          2                  4   \n",
       "82                  2           2        2          5                  2   \n",
       "83                  4           2        3          1                  2   \n",
       "84                  1           5        5          5                  5   \n",
       "\n",
       "                             Stress Relief Activities  \n",
       "80                                              Sleep  \n",
       "81  Entertainment (Watching movies, shows, gaming)...  \n",
       "82                               Religious Activities  \n",
       "83  Entertainment (Watching movies, shows, gaming)...  \n",
       "84                        Religious Activities, Sleep  \n",
       "\n",
       "[5 rows x 21 columns]"
      ]
     },
     "execution_count": 7,
     "metadata": {},
     "output_type": "execute_result"
    }
   ],
   "source": [
    "df.tail()"
   ]
  },
  {
   "cell_type": "code",
   "execution_count": 8,
   "id": "4b6d2dce-fb9b-40e2-b98e-91b19d775ccb",
   "metadata": {},
   "outputs": [
    {
     "name": "stdout",
     "output_type": "stream",
     "text": [
      "<class 'pandas.core.frame.DataFrame'>\n",
      "RangeIndex: 85 entries, 0 to 84\n",
      "Data columns (total 21 columns):\n",
      " #   Column                    Non-Null Count  Dtype \n",
      "---  ------                    --------------  ----- \n",
      " 0   Gender                    85 non-null     object\n",
      " 1   Age                       85 non-null     object\n",
      " 2   University                85 non-null     object\n",
      " 3   Degree Level              85 non-null     object\n",
      " 4   Year                      85 non-null     object\n",
      " 5   Course                    85 non-null     object\n",
      " 6   CGPA                      85 non-null     object\n",
      " 7   Residential Status        85 non-null     object\n",
      " 8   Campus Mistreat           85 non-null     object\n",
      " 9   Sports                    85 non-null     object\n",
      " 10  Sleep                     85 non-null     object\n",
      " 11  Field Satisfaction        85 non-null     int64 \n",
      " 12  Uni Workload              85 non-null     int64 \n",
      " 13  Academic Pressure         85 non-null     int64 \n",
      " 14  Financial Pressure        85 non-null     int64 \n",
      " 15  Campus Networking         85 non-null     int64 \n",
      " 16  Depression                85 non-null     int64 \n",
      " 17  Anxiety                   85 non-null     int64 \n",
      " 18  Isolation                 85 non-null     int64 \n",
      " 19  Future Insecurity         85 non-null     int64 \n",
      " 20  Stress Relief Activities  85 non-null     object\n",
      "dtypes: int64(9), object(12)\n",
      "memory usage: 14.1+ KB\n"
     ]
    }
   ],
   "source": [
    "df.info()"
   ]
  },
  {
   "cell_type": "code",
   "execution_count": 9,
   "id": "92cc836d-884d-4a1f-b8fe-89f8b5a438d6",
   "metadata": {},
   "outputs": [],
   "source": [
    "# Encoding categorical variables\n",
    "\n",
    "column_mappings = {\n",
    "    'Gender': {'Male': 0, 'Female': 1},\n",
    "    'Degree Level': {'Undergraduate': 0, 'Postgraduate': 1},\n",
    "    'Year': {'1st year': 1, '2nd year': 2, '3rd year': 3, '4th year': 4},\n",
    "    'Residential Status': {\"Off-campus\": 0, \"On-campus (Hostelite)\": 1},\n",
    "    'Campus Mistreat': {\"No\": 0, \"Yes\": 1},\n",
    "    \n",
    "    \"Sports\": {\"Not at all\": 1, \"1 - 3\": 2, \"4 - 6\": 3, \"More than 7\": 4},\n",
    "    \"Sleep\": {\"Less than 4\": 1, \"4 - 6\": 2, \"7 - 8\": 3, \"More than 9\": 4},\n",
    "    \"CGPA\": {\n",
    "        \"3.5 - 4.0\": 3.5,\n",
    "        \"3.0 - 3.5\": 3.0,\n",
    "        \"2.5 - 3.0\": 2.5,\n",
    "        \"2.0 - 2.5\": 2.0,\n",
    "        \"Below 2.0\": 1.5,\n",
    "        \"Not Applicable (1st semester)\": 0\n",
    "    }\n",
    "}\n",
    "\n",
    "\n",
    "for column, mapping in column_mappings.items():\n",
    "    df[column] = df[column].map(mapping)\n"
   ]
  },
  {
   "cell_type": "code",
   "execution_count": 10,
   "id": "66f892a8-9d4d-43d6-9c88-536f145e3f24",
   "metadata": {},
   "outputs": [
    {
     "data": {
      "text/html": [
       "<div>\n",
       "<style scoped>\n",
       "    .dataframe tbody tr th:only-of-type {\n",
       "        vertical-align: middle;\n",
       "    }\n",
       "\n",
       "    .dataframe tbody tr th {\n",
       "        vertical-align: top;\n",
       "    }\n",
       "\n",
       "    .dataframe thead th {\n",
       "        text-align: right;\n",
       "    }\n",
       "</style>\n",
       "<table border=\"1\" class=\"dataframe\">\n",
       "  <thead>\n",
       "    <tr style=\"text-align: right;\">\n",
       "      <th></th>\n",
       "      <th>Gender</th>\n",
       "      <th>Age</th>\n",
       "      <th>University</th>\n",
       "      <th>Degree Level</th>\n",
       "      <th>Year</th>\n",
       "      <th>Course</th>\n",
       "      <th>CGPA</th>\n",
       "      <th>Residential Status</th>\n",
       "      <th>Campus Mistreat</th>\n",
       "      <th>Sports</th>\n",
       "      <th>...</th>\n",
       "      <th>Field Satisfaction</th>\n",
       "      <th>Uni Workload</th>\n",
       "      <th>Academic Pressure</th>\n",
       "      <th>Financial Pressure</th>\n",
       "      <th>Campus Networking</th>\n",
       "      <th>Depression</th>\n",
       "      <th>Anxiety</th>\n",
       "      <th>Isolation</th>\n",
       "      <th>Future Insecurity</th>\n",
       "      <th>Stress Relief Activities</th>\n",
       "    </tr>\n",
       "  </thead>\n",
       "  <tbody>\n",
       "    <tr>\n",
       "      <th>0</th>\n",
       "      <td>0</td>\n",
       "      <td>20</td>\n",
       "      <td>PU</td>\n",
       "      <td>0</td>\n",
       "      <td>2</td>\n",
       "      <td>Data Science</td>\n",
       "      <td>3.0</td>\n",
       "      <td>0</td>\n",
       "      <td>0</td>\n",
       "      <td>1</td>\n",
       "      <td>...</td>\n",
       "      <td>5</td>\n",
       "      <td>4</td>\n",
       "      <td>5</td>\n",
       "      <td>4</td>\n",
       "      <td>3</td>\n",
       "      <td>2</td>\n",
       "      <td>1</td>\n",
       "      <td>1</td>\n",
       "      <td>2</td>\n",
       "      <td>Religious Activities, Social Connections (Fami...</td>\n",
       "    </tr>\n",
       "    <tr>\n",
       "      <th>1</th>\n",
       "      <td>0</td>\n",
       "      <td>20</td>\n",
       "      <td>UET</td>\n",
       "      <td>1</td>\n",
       "      <td>3</td>\n",
       "      <td>Computer Science</td>\n",
       "      <td>3.0</td>\n",
       "      <td>0</td>\n",
       "      <td>0</td>\n",
       "      <td>2</td>\n",
       "      <td>...</td>\n",
       "      <td>5</td>\n",
       "      <td>4</td>\n",
       "      <td>4</td>\n",
       "      <td>1</td>\n",
       "      <td>3</td>\n",
       "      <td>3</td>\n",
       "      <td>3</td>\n",
       "      <td>3</td>\n",
       "      <td>4</td>\n",
       "      <td>Entertainment (Watching movies, shows, gaming)</td>\n",
       "    </tr>\n",
       "    <tr>\n",
       "      <th>2</th>\n",
       "      <td>0</td>\n",
       "      <td>20</td>\n",
       "      <td>FAST</td>\n",
       "      <td>0</td>\n",
       "      <td>3</td>\n",
       "      <td>Computer Science</td>\n",
       "      <td>2.5</td>\n",
       "      <td>0</td>\n",
       "      <td>0</td>\n",
       "      <td>2</td>\n",
       "      <td>...</td>\n",
       "      <td>5</td>\n",
       "      <td>5</td>\n",
       "      <td>5</td>\n",
       "      <td>3</td>\n",
       "      <td>4</td>\n",
       "      <td>2</td>\n",
       "      <td>3</td>\n",
       "      <td>3</td>\n",
       "      <td>1</td>\n",
       "      <td>Religious Activities, Exercise and Fitness, En...</td>\n",
       "    </tr>\n",
       "    <tr>\n",
       "      <th>3</th>\n",
       "      <td>0</td>\n",
       "      <td>20</td>\n",
       "      <td>UET</td>\n",
       "      <td>0</td>\n",
       "      <td>3</td>\n",
       "      <td>Computer Science</td>\n",
       "      <td>2.5</td>\n",
       "      <td>1</td>\n",
       "      <td>0</td>\n",
       "      <td>1</td>\n",
       "      <td>...</td>\n",
       "      <td>3</td>\n",
       "      <td>5</td>\n",
       "      <td>4</td>\n",
       "      <td>4</td>\n",
       "      <td>1</td>\n",
       "      <td>5</td>\n",
       "      <td>5</td>\n",
       "      <td>5</td>\n",
       "      <td>3</td>\n",
       "      <td>Entertainment (Watching movies, shows, gaming)</td>\n",
       "    </tr>\n",
       "    <tr>\n",
       "      <th>4</th>\n",
       "      <td>1</td>\n",
       "      <td>20</td>\n",
       "      <td>UET</td>\n",
       "      <td>0</td>\n",
       "      <td>3</td>\n",
       "      <td>Computer Science</td>\n",
       "      <td>3.0</td>\n",
       "      <td>0</td>\n",
       "      <td>1</td>\n",
       "      <td>1</td>\n",
       "      <td>...</td>\n",
       "      <td>3</td>\n",
       "      <td>5</td>\n",
       "      <td>5</td>\n",
       "      <td>2</td>\n",
       "      <td>3</td>\n",
       "      <td>5</td>\n",
       "      <td>5</td>\n",
       "      <td>4</td>\n",
       "      <td>4</td>\n",
       "      <td>Entertainment (Watching movies, shows, gaming)</td>\n",
       "    </tr>\n",
       "  </tbody>\n",
       "</table>\n",
       "<p>5 rows × 21 columns</p>\n",
       "</div>"
      ],
      "text/plain": [
       "   Gender Age University  Degree Level  Year            Course  CGPA   \n",
       "0       0  20         PU             0     2      Data Science   3.0  \\\n",
       "1       0  20        UET             1     3  Computer Science   3.0   \n",
       "2       0  20       FAST             0     3  Computer Science   2.5   \n",
       "3       0  20        UET             0     3  Computer Science   2.5   \n",
       "4       1  20        UET             0     3  Computer Science   3.0   \n",
       "\n",
       "   Residential Status  Campus Mistreat  Sports  ...  Field Satisfaction   \n",
       "0                   0                0       1  ...                   5  \\\n",
       "1                   0                0       2  ...                   5   \n",
       "2                   0                0       2  ...                   5   \n",
       "3                   1                0       1  ...                   3   \n",
       "4                   0                1       1  ...                   3   \n",
       "\n",
       "   Uni Workload  Academic Pressure  Financial Pressure  Campus Networking   \n",
       "0             4                  5                   4                  3  \\\n",
       "1             4                  4                   1                  3   \n",
       "2             5                  5                   3                  4   \n",
       "3             5                  4                   4                  1   \n",
       "4             5                  5                   2                  3   \n",
       "\n",
       "   Depression  Anxiety  Isolation  Future Insecurity   \n",
       "0           2        1          1                  2  \\\n",
       "1           3        3          3                  4   \n",
       "2           2        3          3                  1   \n",
       "3           5        5          5                  3   \n",
       "4           5        5          4                  4   \n",
       "\n",
       "                            Stress Relief Activities  \n",
       "0  Religious Activities, Social Connections (Fami...  \n",
       "1     Entertainment (Watching movies, shows, gaming)  \n",
       "2  Religious Activities, Exercise and Fitness, En...  \n",
       "3     Entertainment (Watching movies, shows, gaming)  \n",
       "4     Entertainment (Watching movies, shows, gaming)  \n",
       "\n",
       "[5 rows x 21 columns]"
      ]
     },
     "execution_count": 10,
     "metadata": {},
     "output_type": "execute_result"
    }
   ],
   "source": [
    "df.head()"
   ]
  },
  {
   "cell_type": "code",
   "execution_count": 11,
   "id": "4c0c3212-7bf1-47f1-83a9-70797e77861e",
   "metadata": {},
   "outputs": [
    {
     "data": {
      "text/plain": [
       "('2', '270 years 12 minutes 9 seconds')"
      ]
     },
     "execution_count": 11,
     "metadata": {},
     "output_type": "execute_result"
    }
   ],
   "source": [
    "# Indexes 20 and 57 have outliers\n",
    "\n",
    "df.loc[20, 'Age'], df.loc[57, 'Age']"
   ]
  },
  {
   "cell_type": "code",
   "execution_count": 12,
   "id": "24f772ca-046d-4b3f-ba95-63dc68d271a5",
   "metadata": {},
   "outputs": [],
   "source": [
    "# Handling outliers in the 'Age' column and adjusting data types\n",
    "\n",
    "lower_bound = 15\n",
    "upper_bound = 30\n",
    "\n",
    "df['Age'] = pd.to_numeric(df['Age'], errors='coerce')\n",
    "\n",
    "df['Age'] = df['Age'].apply(\n",
    "    lambda x: df['Age'].mean() if pd.isna(x) or not (lower_bound <= x <= upper_bound) else x\n",
    ")\n",
    "\n",
    "df['Age'] = df['Age'].astype('int32')"
   ]
  },
  {
   "cell_type": "code",
   "execution_count": 13,
   "id": "4301c4e3-3cb4-4e6a-b5c5-f0c38a435f2c",
   "metadata": {},
   "outputs": [
    {
     "data": {
      "text/plain": [
       "(19, 19)"
      ]
     },
     "execution_count": 13,
     "metadata": {},
     "output_type": "execute_result"
    }
   ],
   "source": [
    "df.loc[20, 'Age'], df.loc[57, 'Age']"
   ]
  },
  {
   "cell_type": "code",
   "execution_count": 14,
   "id": "5ce8cda2-9486-4b93-b9e6-be1ad58afb9a",
   "metadata": {},
   "outputs": [],
   "source": [
    "# Reverse coding on field satisfaction to measure stress\n",
    "\n",
    "df['Field Stress'] = 6 - df['Field Satisfaction']"
   ]
  },
  {
   "cell_type": "code",
   "execution_count": 15,
   "id": "3ff0f080-29f6-4651-b4c7-38c173b72089",
   "metadata": {},
   "outputs": [],
   "source": [
    "# Processing outliers and handling categorical labels for 'Stress Relief Activities' column\n",
    "\n",
    "activities = {\n",
    "    'Religious Activities': 'Religious',\n",
    "    'Exercise and Fitness': 'Fitness',\n",
    "    'Creative Outlets (Painting, Photography, Music)': 'Creative Outlets',\n",
    "    'Social Connections (Family or Friends activities)': 'Social Connections',\n",
    "    'Entertainment (Watching movies, shows, gaming)': 'Entertainment',\n",
    "    'Outdoor Activities (Sports)': 'Outdoor',\n",
    "    'Sleep': 'Sleep'\n",
    "}\n",
    "\n",
    "def remove_outliers(data):\n",
    "    result = data.split(', ')\n",
    "    result = [x for x in result if x in activities.values()]\n",
    "    return result\n",
    "\n",
    "def rename_activities(data):\n",
    "    result = data\n",
    "    for activity in activities:\n",
    "        if activity in result:\n",
    "            result = result.replace(activity, activities[activity])\n",
    "    return remove_outliers(result)\n"
   ]
  },
  {
   "cell_type": "code",
   "execution_count": 16,
   "id": "d723b046-96f4-4ffe-9ad3-1fbfca058bcc",
   "metadata": {},
   "outputs": [],
   "source": [
    "df['Stress Relief Activities'] = df['Stress Relief Activities'].apply(rename_activities)"
   ]
  },
  {
   "cell_type": "code",
   "execution_count": 17,
   "id": "ab186130-d478-4264-bbd0-63cb64d3aaec",
   "metadata": {},
   "outputs": [
    {
     "data": {
      "text/plain": [
       "0     [Religious, Social Connections, Entertainment]\n",
       "1                                    [Entertainment]\n",
       "2                [Religious, Fitness, Entertainment]\n",
       "3                                    [Entertainment]\n",
       "4                                    [Entertainment]\n",
       "                           ...                      \n",
       "80                                           [Sleep]\n",
       "81                            [Entertainment, Sleep]\n",
       "82                                       [Religious]\n",
       "83                   [Entertainment, Outdoor, Sleep]\n",
       "84                                [Religious, Sleep]\n",
       "Name: Stress Relief Activities, Length: 85, dtype: object"
      ]
     },
     "execution_count": 17,
     "metadata": {},
     "output_type": "execute_result"
    }
   ],
   "source": [
    "df['Stress Relief Activities']"
   ]
  },
  {
   "cell_type": "markdown",
   "id": "5a10fa88-0b46-4461-8ccd-8e675cb37077",
   "metadata": {},
   "source": [
    "## Mental Stress Score"
   ]
  },
  {
   "cell_type": "code",
   "execution_count": 18,
   "id": "9e420161-846f-40b0-904a-bfad89b0d146",
   "metadata": {},
   "outputs": [
    {
     "data": {
      "text/html": [
       "<div>\n",
       "<style scoped>\n",
       "    .dataframe tbody tr th:only-of-type {\n",
       "        vertical-align: middle;\n",
       "    }\n",
       "\n",
       "    .dataframe tbody tr th {\n",
       "        vertical-align: top;\n",
       "    }\n",
       "\n",
       "    .dataframe thead th {\n",
       "        text-align: right;\n",
       "    }\n",
       "</style>\n",
       "<table border=\"1\" class=\"dataframe\">\n",
       "  <thead>\n",
       "    <tr style=\"text-align: right;\">\n",
       "      <th></th>\n",
       "      <th>Field Stress</th>\n",
       "      <th>Uni Workload</th>\n",
       "      <th>Financial Pressure</th>\n",
       "      <th>Depression</th>\n",
       "      <th>Anxiety</th>\n",
       "      <th>Isolation</th>\n",
       "      <th>Future Insecurity</th>\n",
       "    </tr>\n",
       "  </thead>\n",
       "  <tbody>\n",
       "    <tr>\n",
       "      <th>0</th>\n",
       "      <td>1</td>\n",
       "      <td>4</td>\n",
       "      <td>4</td>\n",
       "      <td>2</td>\n",
       "      <td>1</td>\n",
       "      <td>1</td>\n",
       "      <td>2</td>\n",
       "    </tr>\n",
       "    <tr>\n",
       "      <th>1</th>\n",
       "      <td>1</td>\n",
       "      <td>4</td>\n",
       "      <td>1</td>\n",
       "      <td>3</td>\n",
       "      <td>3</td>\n",
       "      <td>3</td>\n",
       "      <td>4</td>\n",
       "    </tr>\n",
       "    <tr>\n",
       "      <th>2</th>\n",
       "      <td>1</td>\n",
       "      <td>5</td>\n",
       "      <td>3</td>\n",
       "      <td>2</td>\n",
       "      <td>3</td>\n",
       "      <td>3</td>\n",
       "      <td>1</td>\n",
       "    </tr>\n",
       "    <tr>\n",
       "      <th>3</th>\n",
       "      <td>3</td>\n",
       "      <td>5</td>\n",
       "      <td>4</td>\n",
       "      <td>5</td>\n",
       "      <td>5</td>\n",
       "      <td>5</td>\n",
       "      <td>3</td>\n",
       "    </tr>\n",
       "    <tr>\n",
       "      <th>4</th>\n",
       "      <td>3</td>\n",
       "      <td>5</td>\n",
       "      <td>2</td>\n",
       "      <td>5</td>\n",
       "      <td>5</td>\n",
       "      <td>4</td>\n",
       "      <td>4</td>\n",
       "    </tr>\n",
       "  </tbody>\n",
       "</table>\n",
       "</div>"
      ],
      "text/plain": [
       "   Field Stress  Uni Workload  Financial Pressure  Depression  Anxiety   \n",
       "0             1             4                   4           2        1  \\\n",
       "1             1             4                   1           3        3   \n",
       "2             1             5                   3           2        3   \n",
       "3             3             5                   4           5        5   \n",
       "4             3             5                   2           5        5   \n",
       "\n",
       "   Isolation  Future Insecurity  \n",
       "0          1                  2  \n",
       "1          3                  4  \n",
       "2          3                  1  \n",
       "3          5                  3  \n",
       "4          4                  4  "
      ]
     },
     "execution_count": 18,
     "metadata": {},
     "output_type": "execute_result"
    }
   ],
   "source": [
    "stress_features = [\n",
    "    \"Field Stress\", \"Uni Workload\", \"Financial Pressure\", \"Depression\", \"Anxiety\", \"Isolation\", \"Future Insecurity\"\n",
    "]\n",
    "\n",
    "df[stress_features].head()"
   ]
  },
  {
   "cell_type": "code",
   "execution_count": 19,
   "id": "82247a63-8484-4eba-a168-33567812239d",
   "metadata": {},
   "outputs": [
    {
     "name": "stdout",
     "output_type": "stream",
     "text": [
      "<class 'pandas.core.frame.DataFrame'>\n",
      "RangeIndex: 85 entries, 0 to 84\n",
      "Data columns (total 7 columns):\n",
      " #   Column              Non-Null Count  Dtype\n",
      "---  ------              --------------  -----\n",
      " 0   Field Stress        85 non-null     int64\n",
      " 1   Uni Workload        85 non-null     int64\n",
      " 2   Financial Pressure  85 non-null     int64\n",
      " 3   Depression          85 non-null     int64\n",
      " 4   Anxiety             85 non-null     int64\n",
      " 5   Isolation           85 non-null     int64\n",
      " 6   Future Insecurity   85 non-null     int64\n",
      "dtypes: int64(7)\n",
      "memory usage: 4.8 KB\n"
     ]
    }
   ],
   "source": [
    "df[stress_features].info()"
   ]
  },
  {
   "cell_type": "code",
   "execution_count": 20,
   "id": "f5e1b80a-e792-411b-8db0-630ca2f306d7",
   "metadata": {},
   "outputs": [],
   "source": [
    "df[\"Stress Score\"] = df[stress_features].sum(axis=1)"
   ]
  },
  {
   "cell_type": "code",
   "execution_count": 21,
   "id": "8b3b63f2-26fa-4ac8-b0f0-2646f15df786",
   "metadata": {},
   "outputs": [
    {
     "data": {
      "text/html": [
       "<div>\n",
       "<style scoped>\n",
       "    .dataframe tbody tr th:only-of-type {\n",
       "        vertical-align: middle;\n",
       "    }\n",
       "\n",
       "    .dataframe tbody tr th {\n",
       "        vertical-align: top;\n",
       "    }\n",
       "\n",
       "    .dataframe thead th {\n",
       "        text-align: right;\n",
       "    }\n",
       "</style>\n",
       "<table border=\"1\" class=\"dataframe\">\n",
       "  <thead>\n",
       "    <tr style=\"text-align: right;\">\n",
       "      <th></th>\n",
       "      <th>Field Stress</th>\n",
       "      <th>Uni Workload</th>\n",
       "      <th>Financial Pressure</th>\n",
       "      <th>Depression</th>\n",
       "      <th>Anxiety</th>\n",
       "      <th>Isolation</th>\n",
       "      <th>Future Insecurity</th>\n",
       "      <th>Stress Score</th>\n",
       "    </tr>\n",
       "  </thead>\n",
       "  <tbody>\n",
       "    <tr>\n",
       "      <th>0</th>\n",
       "      <td>1</td>\n",
       "      <td>4</td>\n",
       "      <td>4</td>\n",
       "      <td>2</td>\n",
       "      <td>1</td>\n",
       "      <td>1</td>\n",
       "      <td>2</td>\n",
       "      <td>15</td>\n",
       "    </tr>\n",
       "    <tr>\n",
       "      <th>1</th>\n",
       "      <td>1</td>\n",
       "      <td>4</td>\n",
       "      <td>1</td>\n",
       "      <td>3</td>\n",
       "      <td>3</td>\n",
       "      <td>3</td>\n",
       "      <td>4</td>\n",
       "      <td>19</td>\n",
       "    </tr>\n",
       "    <tr>\n",
       "      <th>2</th>\n",
       "      <td>1</td>\n",
       "      <td>5</td>\n",
       "      <td>3</td>\n",
       "      <td>2</td>\n",
       "      <td>3</td>\n",
       "      <td>3</td>\n",
       "      <td>1</td>\n",
       "      <td>18</td>\n",
       "    </tr>\n",
       "    <tr>\n",
       "      <th>3</th>\n",
       "      <td>3</td>\n",
       "      <td>5</td>\n",
       "      <td>4</td>\n",
       "      <td>5</td>\n",
       "      <td>5</td>\n",
       "      <td>5</td>\n",
       "      <td>3</td>\n",
       "      <td>30</td>\n",
       "    </tr>\n",
       "    <tr>\n",
       "      <th>4</th>\n",
       "      <td>3</td>\n",
       "      <td>5</td>\n",
       "      <td>2</td>\n",
       "      <td>5</td>\n",
       "      <td>5</td>\n",
       "      <td>4</td>\n",
       "      <td>4</td>\n",
       "      <td>28</td>\n",
       "    </tr>\n",
       "  </tbody>\n",
       "</table>\n",
       "</div>"
      ],
      "text/plain": [
       "   Field Stress  Uni Workload  Financial Pressure  Depression  Anxiety   \n",
       "0             1             4                   4           2        1  \\\n",
       "1             1             4                   1           3        3   \n",
       "2             1             5                   3           2        3   \n",
       "3             3             5                   4           5        5   \n",
       "4             3             5                   2           5        5   \n",
       "\n",
       "   Isolation  Future Insecurity  Stress Score  \n",
       "0          1                  2            15  \n",
       "1          3                  4            19  \n",
       "2          3                  1            18  \n",
       "3          5                  3            30  \n",
       "4          4                  4            28  "
      ]
     },
     "execution_count": 21,
     "metadata": {},
     "output_type": "execute_result"
    }
   ],
   "source": [
    "features = stress_features+[\"Stress Score\"]\n",
    "\n",
    "df[features].head()"
   ]
  },
  {
   "cell_type": "code",
   "execution_count": 22,
   "id": "90c4eac6-bcf6-4827-ae5c-fc9fc31e9792",
   "metadata": {},
   "outputs": [
    {
     "data": {
      "text/plain": [
       "(8, 34)"
      ]
     },
     "execution_count": 22,
     "metadata": {},
     "output_type": "execute_result"
    }
   ],
   "source": [
    "df['Stress Score'].min(), df['Stress Score'].max()"
   ]
  },
  {
   "cell_type": "code",
   "execution_count": 23,
   "id": "0fb19450-90bd-4f06-bbf8-285d3ebb1ee4",
   "metadata": {},
   "outputs": [
    {
     "name": "stdout",
     "output_type": "stream",
     "text": [
      "Mean: 22.16470588235294\n",
      "Standard Deviation: 5.816501998772983\n",
      "Z-scores:\n",
      "0   -1.231789\n",
      "1   -0.544091\n",
      "2   -0.716016\n",
      "3    1.347080\n",
      "4    1.003231\n",
      "Name: Stress Score, dtype: float64\n"
     ]
    }
   ],
   "source": [
    "# Calculating z scores\n",
    "stress_scores = df['Stress Score']\n",
    "\n",
    "mean = np.mean(stress_scores)\n",
    "std = np.std(stress_scores)\n",
    "z_scores = (stress_scores - mean) / std\n",
    "\n",
    "print(f\"Mean: {mean}\\nStandard Deviation: {std}\")\n",
    "\n",
    "print(f\"Z-scores:\\n{z_scores[:5]}\")"
   ]
  },
  {
   "cell_type": "code",
   "execution_count": 24,
   "id": "cf1217ab-1658-4518-9ec4-631cfa82c1c6",
   "metadata": {},
   "outputs": [
    {
     "data": {
      "image/png": "[encoded data removed]",
      "text/plain": [
       "<Figure size 1100x400 with 2 Axes>"
      ]
     },
     "metadata": {},
     "output_type": "display_data"
    }
   ],
   "source": [
    "plt.figure(figsize=(11, 4))\n",
    "\n",
    "plt.subplot(1, 2, 1)\n",
    "sns.histplot(df['Stress Score'], bins=20, kde=True, color='black')\n",
    "plt.title('Histogram of Stress Scores')\n",
    "plt.xlabel('Stress Score')\n",
    "plt.ylabel('Frequency')\n",
    "\n",
    "plt.subplot(1, 2, 2)\n",
    "sns.histplot(z_scores, bins=20, kde=True, color='black')\n",
    "plt.title('Histogram of Z-Scores')\n",
    "plt.xlabel('Z-Score')\n",
    "plt.ylabel('Frequency')\n",
    "\n",
    "plt.tight_layout()\n",
    "plt.show()"
   ]
  },
  {
   "cell_type": "code",
   "execution_count": 25,
   "id": "fbe891b9-3947-4237-9b23-5ce9c36e5a97",
   "metadata": {},
   "outputs": [],
   "source": [
    "\"\"\"\n",
    "Low Stress:      below the 25th percentile or less than 1 standard deviation.\n",
    "Moderate Stress: between the 25th and 75th percentiles or within 1 standard deviation above and below the mean.\n",
    "High Stress:     above the 75th percentile or more than 1 standard deviation.\n",
    "\"\"\"\n",
    "def classify_stress_level(z_score):\n",
    "    if z_score < -1:\n",
    "        # low stress\n",
    "        return 0\n",
    "    elif -1 <= z_score <= 1:\n",
    "        # moderate stress\n",
    "        return 1\n",
    "    else:\n",
    "        # high stress\n",
    "        return 2"
   ]
  },
  {
   "cell_type": "code",
   "execution_count": 26,
   "id": "882ab1d8-35f9-4c63-88c7-add06a541ded",
   "metadata": {},
   "outputs": [],
   "source": [
    "df['Stress Level'] = z_scores.apply(classify_stress_level)"
   ]
  },
  {
   "cell_type": "code",
   "execution_count": 27,
   "id": "c6a10f2d-4ba4-4421-a03c-f07220dddd53",
   "metadata": {},
   "outputs": [
    {
     "data": {
      "text/html": [
       "<div>\n",
       "<style scoped>\n",
       "    .dataframe tbody tr th:only-of-type {\n",
       "        vertical-align: middle;\n",
       "    }\n",
       "\n",
       "    .dataframe tbody tr th {\n",
       "        vertical-align: top;\n",
       "    }\n",
       "\n",
       "    .dataframe thead th {\n",
       "        text-align: right;\n",
       "    }\n",
       "</style>\n",
       "<table border=\"1\" class=\"dataframe\">\n",
       "  <thead>\n",
       "    <tr style=\"text-align: right;\">\n",
       "      <th></th>\n",
       "      <th>Field Stress</th>\n",
       "      <th>Uni Workload</th>\n",
       "      <th>Financial Pressure</th>\n",
       "      <th>Depression</th>\n",
       "      <th>Anxiety</th>\n",
       "      <th>Isolation</th>\n",
       "      <th>Future Insecurity</th>\n",
       "      <th>Stress Score</th>\n",
       "      <th>Stress Level</th>\n",
       "    </tr>\n",
       "  </thead>\n",
       "  <tbody>\n",
       "    <tr>\n",
       "      <th>0</th>\n",
       "      <td>1</td>\n",
       "      <td>4</td>\n",
       "      <td>4</td>\n",
       "      <td>2</td>\n",
       "      <td>1</td>\n",
       "      <td>1</td>\n",
       "      <td>2</td>\n",
       "      <td>15</td>\n",
       "      <td>0</td>\n",
       "    </tr>\n",
       "    <tr>\n",
       "      <th>1</th>\n",
       "      <td>1</td>\n",
       "      <td>4</td>\n",
       "      <td>1</td>\n",
       "      <td>3</td>\n",
       "      <td>3</td>\n",
       "      <td>3</td>\n",
       "      <td>4</td>\n",
       "      <td>19</td>\n",
       "      <td>1</td>\n",
       "    </tr>\n",
       "    <tr>\n",
       "      <th>2</th>\n",
       "      <td>1</td>\n",
       "      <td>5</td>\n",
       "      <td>3</td>\n",
       "      <td>2</td>\n",
       "      <td>3</td>\n",
       "      <td>3</td>\n",
       "      <td>1</td>\n",
       "      <td>18</td>\n",
       "      <td>1</td>\n",
       "    </tr>\n",
       "    <tr>\n",
       "      <th>3</th>\n",
       "      <td>3</td>\n",
       "      <td>5</td>\n",
       "      <td>4</td>\n",
       "      <td>5</td>\n",
       "      <td>5</td>\n",
       "      <td>5</td>\n",
       "      <td>3</td>\n",
       "      <td>30</td>\n",
       "      <td>2</td>\n",
       "    </tr>\n",
       "    <tr>\n",
       "      <th>4</th>\n",
       "      <td>3</td>\n",
       "      <td>5</td>\n",
       "      <td>2</td>\n",
       "      <td>5</td>\n",
       "      <td>5</td>\n",
       "      <td>4</td>\n",
       "      <td>4</td>\n",
       "      <td>28</td>\n",
       "      <td>2</td>\n",
       "    </tr>\n",
       "  </tbody>\n",
       "</table>\n",
       "</div>"
      ],
      "text/plain": [
       "   Field Stress  Uni Workload  Financial Pressure  Depression  Anxiety   \n",
       "0             1             4                   4           2        1  \\\n",
       "1             1             4                   1           3        3   \n",
       "2             1             5                   3           2        3   \n",
       "3             3             5                   4           5        5   \n",
       "4             3             5                   2           5        5   \n",
       "\n",
       "   Isolation  Future Insecurity  Stress Score  Stress Level  \n",
       "0          1                  2            15             0  \n",
       "1          3                  4            19             1  \n",
       "2          3                  1            18             1  \n",
       "3          5                  3            30             2  \n",
       "4          4                  4            28             2  "
      ]
     },
     "execution_count": 27,
     "metadata": {},
     "output_type": "execute_result"
    }
   ],
   "source": [
    "final_stress = features + [\"Stress Level\"]\n",
    "\n",
    "df[final_stress].head()"
   ]
  },
  {
   "cell_type": "code",
   "execution_count": 28,
   "id": "b9c642e3-67c7-43a9-8daa-1dc89cc70225",
   "metadata": {},
   "outputs": [],
   "source": [
    "df.to_csv('../Data/Mental Health Cleaned Data.csv', index=False)"
   ]
  },
  {
   "cell_type": "markdown",
   "id": "26664e15-7d40-470a-b50a-8be4fa8e5993",
   "metadata": {},
   "source": [
    "## Statistical Analysis\n",
    "\n",
    "1. [Comparing Stress Levels Across Gender](#1.-Comparing-Stress-Levels-Across-Gender)\n",
    "2. [Comparing Stress Levels Across Different Years of Study](#2.-Comparing-Stress-Levels-Across-Different-Years-of-Study)\n",
    "3. [Comparing Stress Levels Across Residential Status](#3.-Comparing-Stress-Levels-Across-Residential-Status)\n",
    "4. [Comparing Stress Levels Across Different Courses](#4.-Comparing-Stress-Levels-Across-Different-Courses)\n",
    "5. [Correlation between CGPA and Stress Scores](#5.-Correlation-between-CGPA-and-Stress-Scores)\n",
    "6. [Comparing Stress Levels Across Different CGPA](#6.-Comparing-Stress-Levels-Across-Different-CGPA)\n",
    "7. [Correlation between Sports and Stress Scores](#7.-Correlation-between-Sports-and-Stress-Scores)\n",
    "8. [Comparing Stress Levels Across Sports Engagement](#8.-Comparing-Stress-Levels-Across-Sports-Engagement)\n",
    "9. [Correlation between Sleep and Stress Scores](#9.-Correlation-between-Sleep-and-Stress-Scores)\n",
    "10. [Comparing Stress Score Across Different Levels of Sleep](#10.-Comparing-Stress-Score-Across-Different-Levels-of-Sleep)\n",
    "11. [Comparing Stress Levels Across Campus Mistreatment](#11.-Comparing-Stress-Levels-Across-Campus-Mistreatment)\n",
    "12. [Association between Gender and Stress Relief Activities](#12.-Association-between-Gender-and-Stress-Relief-Activities)"
   ]
  },
  {
   "cell_type": "markdown",
   "id": "0382a22a-2af6-4acf-9f41-ad045bff9702",
   "metadata": {},
   "source": [
    "### 1. Comparing Stress Levels Across Gender"
   ]
  },
  {
   "cell_type": "code",
   "execution_count": 29,
   "id": "cec74fb5-cf0e-4ecb-a7c7-b0ce680b700c",
   "metadata": {},
   "outputs": [
    {
     "data": {
      "text/plain": [
       "Gender\n",
       "0    62\n",
       "1    23\n",
       "dtype: int64"
      ]
     },
     "execution_count": 29,
     "metadata": {},
     "output_type": "execute_result"
    }
   ],
   "source": [
    "gender_count = df.groupby('Gender').size()\n",
    "\n",
    "gender_count"
   ]
  },
  {
   "cell_type": "code",
   "execution_count": 30,
   "id": "8ae9c022-2118-46fb-9757-493d4425fe33",
   "metadata": {},
   "outputs": [
    {
     "name": "stdout",
     "output_type": "stream",
     "text": [
      "T-test Result:\n",
      "T-statistic: -1.1015534378685883\n",
      "P-value: 0.27774854844715907\n",
      "Fail to reject the null hypothesis. No significant differences in stress scores between male and female participants.\n"
     ]
    }
   ],
   "source": [
    "null_hypo = \"No significant differences in stress scores between male and female participants.\"\n",
    "alt_hypo = \"There are significant differences in stress scores between male and female participants.\"\n",
    "\n",
    "male = df[df['Gender'] == 0]['Stress Score']\n",
    "female = df[df['Gender'] == 1]['Stress Score']\n",
    "\n",
    "t_statistic, p_value = ttest_ind(male, female, equal_var=False)\n",
    "\n",
    "print(\"T-test Result:\")\n",
    "print(\"T-statistic:\", t_statistic)\n",
    "print(\"P-value:\", p_value)\n",
    "\n",
    "alpha = 0.05\n",
    "if p_value < alpha:\n",
    "    print(\"Reject the null hypothesis.\", alt_hypo)\n",
    "else:\n",
    "    print(\"Fail to reject the null hypothesis.\", null_hypo)"
   ]
  },
  {
   "cell_type": "code",
   "execution_count": 31,
   "id": "51e1d440-7705-49b6-8447-b6aa8ad10233",
   "metadata": {},
   "outputs": [
    {
     "data": {
      "image/png": "[encoded data removed]",
      "text/plain": [
       "<Figure size 800x400 with 1 Axes>"
      ]
     },
     "metadata": {},
     "output_type": "display_data"
    }
   ],
   "source": [
    "plt.figure(figsize=(8, 4))\n",
    "sns.boxplot(x='Gender', y='Stress Score', data=df)\n",
    "\n",
    "plt.xticks(ticks=[0, 1], labels=['Male', 'Female'])\n",
    "\n",
    "plt.title('Box Plot of Stress Score by Gender')\n",
    "plt.xlabel('Gender')\n",
    "plt.ylabel('Stress Score')\n",
    "\n",
    "plt.show()"
   ]
  },
  {
   "cell_type": "markdown",
   "id": "20215234-60f0-49e5-b858-ecf38c1cddd6",
   "metadata": {},
   "source": [
    "### 2. Comparing Stress Levels Across Different Years of Study"
   ]
  },
  {
   "cell_type": "code",
   "execution_count": 32,
   "id": "cd1824c4-d0ac-48fb-a5e8-0796eb50a431",
   "metadata": {},
   "outputs": [
    {
     "name": "stdout",
     "output_type": "stream",
     "text": [
      "ANOVA Result:\n",
      "F-statistic: 3.895457779989194\n",
      "P-value: 0.011819017188762278\n",
      "Reject the null hypothesis. There are significant differences in stress scores among the groups.\n"
     ]
    }
   ],
   "source": [
    "result = f_oneway(\n",
    "    df[df['Year'] == 1]['Stress Score'],\n",
    "    df[df['Year'] == 2]['Stress Score'],\n",
    "    df[df['Year'] == 3]['Stress Score'],\n",
    "    df[df['Year'] == 4]['Stress Score']\n",
    ")\n",
    "\n",
    "print(\"ANOVA Result:\")\n",
    "print(\"F-statistic:\", result.statistic)\n",
    "print(\"P-value:\", result.pvalue)\n",
    "\n",
    "alpha = 0.05\n",
    "if result.pvalue < alpha:\n",
    "    print(\"Reject the null hypothesis. There are significant differences in stress scores among the groups.\")\n",
    "else:\n",
    "    print(\"Fail to reject the null hypothesis. No significant differences in stress scores among the groups.\")\n"
   ]
  },
  {
   "cell_type": "code",
   "execution_count": 33,
   "id": "458e30cc-5ac9-4c75-9ce4-a4a541e29918",
   "metadata": {},
   "outputs": [
    {
     "data": {
      "image/png": "[encoded data removed]",
      "text/plain": [
       "<Figure size 1000x400 with 1 Axes>"
      ]
     },
     "metadata": {},
     "output_type": "display_data"
    }
   ],
   "source": [
    "plt.figure(figsize=(10, 4))\n",
    "sns.boxplot(x='Year', y='Stress Score', data=df)\n",
    "\n",
    "plt.title('Box Plot of Stress Score by Year of Study')\n",
    "plt.xlabel('Year of Study')\n",
    "plt.ylabel('Stress Score')\n",
    "\n",
    "plt.show()"
   ]
  },
  {
   "cell_type": "markdown",
   "id": "77f14d05-3a86-4515-87a0-b84ecafe0de6",
   "metadata": {},
   "source": [
    "### 3. Comparing Stress Levels Across Residential Status"
   ]
  },
  {
   "cell_type": "code",
   "execution_count": 34,
   "id": "abeab778-9196-4f84-aabe-2fc63a83c25c",
   "metadata": {},
   "outputs": [
    {
     "name": "stdout",
     "output_type": "stream",
     "text": [
      "ANOVA Result:\n",
      "F-statistic: 0.0043359322459198\n",
      "P-value: 0.9476573516985695\n",
      "Fail to reject the null hypothesis. No significant differences in stress scores between On-Campus and Off-Campus residents.\n"
     ]
    }
   ],
   "source": [
    "result = f_oneway(\n",
    "    df[df['Residential Status'] == 0]['Stress Score'],\n",
    "    df[df['Residential Status'] == 1]['Stress Score']\n",
    ")\n",
    "\n",
    "print(\"ANOVA Result:\")\n",
    "print(\"F-statistic:\", result.statistic)\n",
    "print(\"P-value:\", result.pvalue)\n",
    "\n",
    "alpha = 0.05\n",
    "if result.pvalue < alpha:\n",
    "    print(\"Reject the null hypothesis. There are significant differences in stress scores between On-Campus and Off-Campus residents.\")\n",
    "else:\n",
    "    print(\"Fail to reject the null hypothesis. No significant differences in stress scores between On-Campus and Off-Campus residents.\")"
   ]
  },
  {
   "cell_type": "code",
   "execution_count": 35,
   "id": "81d42b8b-a0dc-4e9a-9de2-f38c06f31630",
   "metadata": {},
   "outputs": [
    {
     "data": {
      "image/png": "[encoded data removed]",
      "text/plain": [
       "<Figure size 800x400 with 1 Axes>"
      ]
     },
     "metadata": {},
     "output_type": "display_data"
    }
   ],
   "source": [
    "plt.figure(figsize=(8, 4))\n",
    "sns.boxplot(x='Residential Status', y='Stress Score', data=df)\n",
    "\n",
    "plt.xticks(ticks=[0, 1], labels=['On-Campus', 'Off-Campus'])\n",
    "\n",
    "plt.title('Box Plot of Stress Score by Residential Status')\n",
    "plt.xlabel('Residential Status')\n",
    "plt.ylabel('Stress Score')\n",
    "\n",
    "plt.show()"
   ]
  },
  {
   "cell_type": "markdown",
   "id": "16ed70f3-3c86-4441-acdd-be9dfbade1ba",
   "metadata": {},
   "source": [
    "### 4. Comparing Stress Levels Across Different Courses"
   ]
  },
  {
   "cell_type": "code",
   "execution_count": 36,
   "id": "393f1d4c-fb42-43d7-b274-638a6f8c5361",
   "metadata": {},
   "outputs": [
    {
     "name": "stdout",
     "output_type": "stream",
     "text": [
      "ANOVA Result:\n",
      "F-statistic: 3.7003080955596777\n",
      "P-value: 0.015091457629413607\n",
      "Reject the null hypothesis. There are significant differences in stress scores among courses.\n"
     ]
    }
   ],
   "source": [
    "result = f_oneway(\n",
    "    df[df['Course'] == 'Computer Science']['Stress Score'],\n",
    "    df[df['Course'] == 'Software Engineering']['Stress Score'],\n",
    "    df[df['Course'] == 'Information Technology']['Stress Score'],\n",
    "    df[df['Course'] == 'Data Science']['Stress Score'],\n",
    ")\n",
    "\n",
    "\n",
    "print(\"ANOVA Result:\")\n",
    "print(\"F-statistic:\", result.statistic)\n",
    "print(\"P-value:\", result.pvalue)\n",
    "\n",
    "alpha = 0.05\n",
    "if result.pvalue < alpha:\n",
    "    print(\"Reject the null hypothesis. There are significant differences in stress scores among courses.\")\n",
    "else:\n",
    "    print(\"Fail to reject the null hypothesis. No significant differences in stress scores among courses.\")"
   ]
  },
  {
   "cell_type": "code",
   "execution_count": 37,
   "id": "bb035abe-81f8-407c-b605-9f86ee9719b5",
   "metadata": {},
   "outputs": [
    {
     "data": {
      "image/png": "[encoded data removed]",
      "text/plain": [
       "<Figure size 1200x400 with 1 Axes>"
      ]
     },
     "metadata": {},
     "output_type": "display_data"
    }
   ],
   "source": [
    "courses = ['Computer Science', 'Software Engineering', 'Information Technology', 'Data Science']\n",
    "\n",
    "plt.figure(figsize=(12, 4))\n",
    "sns.boxplot(x='Course', y='Stress Score', data=df[df['Course'].isin(courses)])\n",
    "\n",
    "plt.title('Box Plot of Stress Score by Course')\n",
    "plt.xlabel('Course')\n",
    "plt.ylabel('Stress Score')\n",
    "\n",
    "plt.show()"
   ]
  },
  {
   "cell_type": "markdown",
   "id": "722bf0b9-cf19-4e78-9388-f5a8175ad2d4",
   "metadata": {},
   "source": [
    "### 5. Correlation between CGPA and Stress Scores"
   ]
  },
  {
   "cell_type": "code",
   "execution_count": 38,
   "id": "dad3a5cb-3eb5-4c5b-a5f5-2620cd2a1175",
   "metadata": {},
   "outputs": [
    {
     "name": "stdout",
     "output_type": "stream",
     "text": [
      "Pearson Correlation Coefficient: -0.02821325321261866\n",
      "P-value: 0.7977091444232983\n",
      "There is no significant correlation between CGPA and Stress Score.\n"
     ]
    }
   ],
   "source": [
    "correlation_coefficient, p_value = pearsonr(df['CGPA'], df['Stress Score'])\n",
    "\n",
    "print(f\"Pearson Correlation Coefficient: {correlation_coefficient}\")\n",
    "print(f\"P-value: {p_value}\")\n",
    "\n",
    "if p_value < 0.05:\n",
    "    print(\"There is a significant correlation between CGPA and Stress Score.\")\n",
    "    if correlation_coefficient > 0:\n",
    "        print(\"The correlation is positive, indicating that higher CGPA is associated with higher stress.\")\n",
    "    else:\n",
    "        print(\"The correlation is negative, indicating that higher CGPA is associated with lower stress.\")\n",
    "else:\n",
    "    print(\"There is no significant correlation between CGPA and Stress Score.\")"
   ]
  },
  {
   "cell_type": "code",
   "execution_count": 39,
   "id": "da80d0ae-a3d8-4ef1-aa40-f3790754f0bd",
   "metadata": {},
   "outputs": [
    {
     "data": {
      "image/png": "[encoded data removed]",
      "text/plain": [
       "<Figure size 640x480 with 1 Axes>"
      ]
     },
     "metadata": {},
     "output_type": "display_data"
    }
   ],
   "source": [
    "labels = ['4.0-3.5', '3.5-3.0', '3.0-2.5', '2.5-2.0', '1.5-2.0', '1st semester']\n",
    "cgpa_order = [3.5, 3.0, 2.5, 2.0, 1.5, 0.0]\n",
    "\n",
    "sns.stripplot(x='CGPA', y='Stress Score', data=df, order=cgpa_order, jitter=True, alpha=0.5)\n",
    "\n",
    "plt.xticks(ticks=range(len(cgpa_order)), labels=labels)\n",
    "\n",
    "plt.title('Scatter Plot of CGPA vs Stress Score')\n",
    "plt.xlabel('CGPA')\n",
    "plt.ylabel('Stress Score')\n",
    "plt.show()"
   ]
  },
  {
   "cell_type": "markdown",
   "id": "8ccf9467-fd49-434e-9a00-5f5ca5868498",
   "metadata": {},
   "source": [
    "### 6. Comparing Stress Levels Across Different CGPA"
   ]
  },
  {
   "cell_type": "code",
   "execution_count": 40,
   "id": "09bc4a69-a28b-43cf-888b-02fa95a03c9d",
   "metadata": {},
   "outputs": [
    {
     "name": "stdout",
     "output_type": "stream",
     "text": [
      "ANOVA Test Results:\n",
      "F-statistic: 0.744040023534928\n",
      "P-value: 0.5928400271559513\n",
      "Fail to reject the null hypothesis. There are no significant differences in stress scores among CGPA groups.\n"
     ]
    }
   ],
   "source": [
    "f_statistic, p_value = f_oneway(\n",
    "    df[df['CGPA'] == 3.5]['Stress Score'],\n",
    "    df[df['CGPA'] == 3.0]['Stress Score'],\n",
    "    df[df['CGPA'] == 2.5]['Stress Score'],\n",
    "    df[df['CGPA'] == 2.0]['Stress Score'],\n",
    "    df[df['CGPA'] == 1.5]['Stress Score'],\n",
    "    df[df['CGPA'] == 0.0]['Stress Score'],\n",
    ")\n",
    "\n",
    "print(\"ANOVA Test Results:\")\n",
    "print(\"F-statistic:\", f_statistic)\n",
    "print(\"P-value:\", p_value)\n",
    "\n",
    "alpha = 0.05\n",
    "if p_value < alpha:\n",
    "    print(\"Reject the null hypothesis. There are significant differences in stress scores among CGPA groups.\")\n",
    "else:\n",
    "    print(\"Fail to reject the null hypothesis. There are no significant differences in stress scores among CGPA groups.\")"
   ]
  },
  {
   "cell_type": "code",
   "execution_count": 41,
   "id": "4d5f632a-3b46-4de7-9e3b-7797619b6add",
   "metadata": {},
   "outputs": [
    {
     "data": {
      "image/png": "[encoded data removed]",
      "text/plain": [
       "<Figure size 1000x400 with 1 Axes>"
      ]
     },
     "metadata": {},
     "output_type": "display_data"
    }
   ],
   "source": [
    "plt.figure(figsize=(10, 4))\n",
    "\n",
    "sns.boxplot(x='CGPA', y='Stress Score', data=df, order=[3.5, 3.0, 2.5, 2.0, 1.5])\n",
    "\n",
    "xticklabels = ['4.0-3.5', '3.5-3.0', '3.0-2.5', '2.5-2.0', '2.0-1.5']\n",
    "plt.xticks(ticks=range(len(xticklabels)), labels=xticklabels)\n",
    "\n",
    "plt.title('Box Plot of Stress Score by CGPA Groups')\n",
    "plt.xlabel('CGPA Groups')\n",
    "plt.ylabel('Stress Score')\n",
    "\n",
    "plt.show()"
   ]
  },
  {
   "cell_type": "markdown",
   "id": "4e84fa45-212c-4f50-9fe7-8b85d3d5a282",
   "metadata": {},
   "source": [
    "### 7. Correlation between Sports and Stress Scores"
   ]
  },
  {
   "cell_type": "code",
   "execution_count": 42,
   "id": "da7b3e4b-803d-4dcf-8050-43ee8dd3b50f",
   "metadata": {},
   "outputs": [
    {
     "name": "stdout",
     "output_type": "stream",
     "text": [
      "Pearson's Correlation Coefficient: -0.20215503379634056\n",
      "P-value: 0.06354092823394786\n",
      "Fail to reject the null hypothesis. There is no significant correlation between Sports and Stress Score.\n"
     ]
    }
   ],
   "source": [
    "correlation, p_value = pearsonr(df['Sports'], df['Stress Score'])\n",
    "\n",
    "print(\"Pearson's Correlation Coefficient:\", correlation)\n",
    "print(\"P-value:\", p_value)\n",
    "\n",
    "alpha = 0.05\n",
    "if p_value < alpha:\n",
    "    print(\"Reject the null hypothesis. There is a significant correlation between Sports and Stress Score.\")\n",
    "else:\n",
    "    print(\"Fail to reject the null hypothesis. There is no significant correlation between Sports and Stress Score.\")"
   ]
  },
  {
   "cell_type": "code",
   "execution_count": 43,
   "id": "b4872d4b-443c-435f-a84d-223e3510733f",
   "metadata": {},
   "outputs": [
    {
     "data": {
      "image/png": "[encoded data removed]",
      "text/plain": [
       "<Figure size 640x480 with 1 Axes>"
      ]
     },
     "metadata": {},
     "output_type": "display_data"
    }
   ],
   "source": [
    "labels = ['Not at all', '1-3', '4-6', 'More than 7']\n",
    "sports_order = [1, 2, 3, 4]\n",
    "\n",
    "sns.stripplot(x='Sports', y='Stress Score', data=df, order=sports_order, jitter=True, alpha=0.5)\n",
    "\n",
    "plt.xticks(ticks=range(len(sports_order)), labels=labels)\n",
    "\n",
    "plt.title('Scatter Plot of Sports vs Stress Score')\n",
    "plt.xlabel('Sports')\n",
    "plt.ylabel('Stress Score')\n",
    "\n",
    "plt.show()"
   ]
  },
  {
   "cell_type": "markdown",
   "id": "5dee60b9-7c1c-4739-8abb-41f9e0d23ac4",
   "metadata": {},
   "source": [
    "### 8. Comparing Stress Levels Across Sports Engagement"
   ]
  },
  {
   "cell_type": "code",
   "execution_count": 44,
   "id": "356307bb-eb24-45ed-a8dd-149bc4bad5df",
   "metadata": {},
   "outputs": [
    {
     "name": "stdout",
     "output_type": "stream",
     "text": [
      "F-statistic: 4.594556052948892\n",
      "P-value: 0.005075184415930172\n",
      "Reject the null hypothesis. There are significant differences in stress scores among different levels of sports engagement.\n"
     ]
    }
   ],
   "source": [
    "f_statistic, p_value = f_oneway(\n",
    "    df[df['Sports'] == 1]['Stress Score'],\n",
    "    df[df['Sports'] == 2]['Stress Score'],\n",
    "    df[df['Sports'] == 3]['Stress Score'],\n",
    "    df[df['Sports'] == 4]['Stress Score']\n",
    ")\n",
    "\n",
    "print(\"F-statistic:\", f_statistic)\n",
    "print(\"P-value:\", p_value)\n",
    "\n",
    "alpha = 0.05\n",
    "if p_value < alpha:\n",
    "    print(\"Reject the null hypothesis. There are significant differences in stress scores among different levels of sports engagement.\")\n",
    "else:\n",
    "    print(\"Fail to reject the null hypothesis. There are no significant differences in stress scores among different levels of sports engagement.\")"
   ]
  },
  {
   "cell_type": "code",
   "execution_count": 45,
   "id": "cc8565dc-46ab-4967-a42e-e8b56f275e14",
   "metadata": {},
   "outputs": [
    {
     "data": {
      "image/png": "[encoded data removed]",
      "text/plain": [
       "<Figure size 1000x400 with 1 Axes>"
      ]
     },
     "metadata": {},
     "output_type": "display_data"
    }
   ],
   "source": [
    "plt.figure(figsize=(10, 4))\n",
    "sns.boxplot(x='Sports', y='Stress Score', data=df)\n",
    "\n",
    "xticklabels = ['No Sports', 'Low', 'Moderate', 'High']\n",
    "plt.xticks(ticks=range(len(xticklabels)), labels=xticklabels)\n",
    "\n",
    "plt.title('Box Plot of Stress Score by Sports Engagement Level')\n",
    "plt.xlabel('Sports Engagement Level')\n",
    "plt.ylabel('Stress Score')\n",
    "\n",
    "plt.show()"
   ]
  },
  {
   "cell_type": "markdown",
   "id": "ac654c10-8452-466b-87dd-611046aae0a7",
   "metadata": {},
   "source": [
    "### 9. Correlation between Sleep and Stress Scores"
   ]
  },
  {
   "cell_type": "code",
   "execution_count": 46,
   "id": "596810fa-7ccc-4291-a305-b70487e8e461",
   "metadata": {},
   "outputs": [
    {
     "name": "stdout",
     "output_type": "stream",
     "text": [
      "Pearson's Correlation Coefficient: -0.30275519953284663\n",
      "P-value: 0.004857188935944013\n",
      "Reject the null hypothesis. There is a significant correlation between Sleep and Stress Score.\n"
     ]
    }
   ],
   "source": [
    "correlation, p_value = pearsonr(df['Sleep'], df['Stress Score'])\n",
    "\n",
    "print(\"Pearson's Correlation Coefficient:\", correlation)\n",
    "print(\"P-value:\", p_value)\n",
    "\n",
    "alpha = 0.05\n",
    "if p_value < alpha:\n",
    "    print(\"Reject the null hypothesis. There is a significant correlation between Sleep and Stress Score.\")\n",
    "else:\n",
    "    print(\"Fail to reject the null hypothesis. There is no significant correlation between Sleep and Stress Score.\")"
   ]
  },
  {
   "cell_type": "code",
   "execution_count": 47,
   "id": "14677216-b6a4-4497-9f1c-bcadf73dcd47",
   "metadata": {},
   "outputs": [
    {
     "data": {
      "image/png": "[encoded data removed]",
      "text/plain": [
       "<Figure size 800x400 with 1 Axes>"
      ]
     },
     "metadata": {},
     "output_type": "display_data"
    }
   ],
   "source": [
    "plt.figure(figsize=(8, 4))\n",
    "sns.regplot(x='Sleep', y='Stress Score', data=df)\n",
    "\n",
    "plt.xticks(ticks=[1, 2, 3, 4], labels=['Less than 4', '4-6', '7-8', 'More than 8'])\n",
    "\n",
    "plt.title('Scatter Plot of Sleep vs Stress Score')\n",
    "plt.xlabel('Sleep (Hours)')\n",
    "plt.ylabel('Stress Score')\n",
    "\n",
    "plt.show()"
   ]
  },
  {
   "cell_type": "markdown",
   "id": "cebe89b0-4c8d-4f06-abd0-86339c38bd07",
   "metadata": {},
   "source": [
    "### 10. Comparing Stress Score Across Different Levels of Sleep"
   ]
  },
  {
   "cell_type": "code",
   "execution_count": 48,
   "id": "8dd6023c-6850-4e16-9131-68b34e49bf25",
   "metadata": {},
   "outputs": [
    {
     "name": "stdout",
     "output_type": "stream",
     "text": [
      "ANOVA Result:\n",
      "F-statistic: 4.102272072794882\n",
      "P-value: 0.009194412906935932\n",
      "Reject the null hypothesis. There are significant differences in stress scores among different levels of sleep.\n"
     ]
    }
   ],
   "source": [
    "result = f_oneway(\n",
    "    df[df['Sleep'] == 1]['Stress Score'],\n",
    "    df[df['Sleep'] == 2]['Stress Score'],\n",
    "    df[df['Sleep'] == 3]['Stress Score'],\n",
    "    df[df['Sleep'] == 4]['Stress Score'],\n",
    ")\n",
    "\n",
    "print(\"ANOVA Result:\")\n",
    "print(\"F-statistic:\", result.statistic)\n",
    "print(\"P-value:\", result.pvalue)\n",
    "\n",
    "\n",
    "alpha = 0.05\n",
    "if result.pvalue < alpha:\n",
    "    print(\"Reject the null hypothesis. There are significant differences in stress scores among different levels of sleep.\")\n",
    "else:\n",
    "    print(\"Fail to reject the null hypothesis. No significant differences in stress scores among different levels of sleep.\")"
   ]
  },
  {
   "cell_type": "code",
   "execution_count": 49,
   "id": "80f76bc6-48f4-4104-8a8e-45634d791a9d",
   "metadata": {},
   "outputs": [
    {
     "data": {
      "image/png": "[encoded data removed]",
      "text/plain": [
       "<Figure size 800x400 with 1 Axes>"
      ]
     },
     "metadata": {},
     "output_type": "display_data"
    }
   ],
   "source": [
    "plt.figure(figsize=(8, 4))\n",
    "sns.boxplot(x='Sleep', y='Stress Score', data=df)\n",
    "\n",
    "plt.xticks(ticks=[0, 1, 2, 3], labels=['Less than 4', '4-6', '7-8', 'More than 8'])\n",
    "\n",
    "plt.title('Boxplot of Stress Score Across Different Levels of Sleep')\n",
    "plt.xlabel('Sleep (Hours)')\n",
    "plt.ylabel('Stress Score')\n",
    "\n",
    "plt.show()"
   ]
  },
  {
   "cell_type": "markdown",
   "id": "feefb675-299a-475d-87b9-9f7088fe8720",
   "metadata": {},
   "source": [
    "### 11. Comparing Stress Levels Across Campus Mistreatment"
   ]
  },
  {
   "cell_type": "code",
   "execution_count": 50,
   "id": "825c079e-7dfa-40a8-b8c6-5d1de1571642",
   "metadata": {},
   "outputs": [
    {
     "name": "stdout",
     "output_type": "stream",
     "text": [
      "Independent Samples T-test Result:\n",
      "T-statistic: -1.929535243812165\n",
      "P-value: 0.062209251297221844\n",
      "Fail to reject the null hypothesis. No significant differences in stress scores between groups with and without campus mistreatment.\n"
     ]
    }
   ],
   "source": [
    "group_0 = df[df['Campus Mistreat'] == 0]['Stress Score']\n",
    "group_1 = df[df['Campus Mistreat'] == 1]['Stress Score']\n",
    "\n",
    "t_statistic, p_value = ttest_ind(group_0, group_1, equal_var=False)\n",
    "\n",
    "print(\"Independent Samples T-test Result:\")\n",
    "print(\"T-statistic:\", t_statistic)\n",
    "print(\"P-value:\", p_value)\n",
    "\n",
    "alpha = 0.05\n",
    "if p_value < alpha:\n",
    "    print(\"Reject the null hypothesis. There are significant differences in stress scores between groups with and without campus mistreatment.\")\n",
    "else:\n",
    "    print(\"Fail to reject the null hypothesis. No significant differences in stress scores between groups with and without campus mistreatment.\")"
   ]
  },
  {
   "cell_type": "code",
   "execution_count": 51,
   "id": "63c86345-1d5e-4e9a-b5eb-967962076914",
   "metadata": {},
   "outputs": [
    {
     "data": {
      "image/png": "[encoded data removed]",
      "text/plain": [
       "<Figure size 800x400 with 1 Axes>"
      ]
     },
     "metadata": {},
     "output_type": "display_data"
    }
   ],
   "source": [
    "plt.figure(figsize=(8, 4))\n",
    "sns.boxplot(x='Campus Mistreat', y='Stress Score', data=df)\n",
    "\n",
    "plt.xticks(ticks=[0, 1], labels=['No', 'Yes'])\n",
    "\n",
    "plt.title('Boxplot of Stress Score Across Campus Mistreatment')\n",
    "plt.xlabel('Campus Mistreatment')\n",
    "plt.ylabel('Stress Score')\n",
    "\n",
    "plt.show()"
   ]
  },
  {
   "cell_type": "markdown",
   "id": "a68de71e-42a8-4fd2-a48f-dc36e3166332",
   "metadata": {},
   "source": [
    "### 12. Association between Gender and Stress Relief Activities"
   ]
  },
  {
   "cell_type": "code",
   "execution_count": 52,
   "id": "3786879e-84a2-4193-be42-cba9aa1ccd23",
   "metadata": {},
   "outputs": [
    {
     "data": {
      "text/html": [
       "<div>\n",
       "<style scoped>\n",
       "    .dataframe tbody tr th:only-of-type {\n",
       "        vertical-align: middle;\n",
       "    }\n",
       "\n",
       "    .dataframe tbody tr th {\n",
       "        vertical-align: top;\n",
       "    }\n",
       "\n",
       "    .dataframe thead th {\n",
       "        text-align: right;\n",
       "    }\n",
       "</style>\n",
       "<table border=\"1\" class=\"dataframe\">\n",
       "  <thead>\n",
       "    <tr style=\"text-align: right;\">\n",
       "      <th>Stress Relief Activities</th>\n",
       "      <th>Creative Outlets</th>\n",
       "      <th>Entertainment</th>\n",
       "      <th>Fitness</th>\n",
       "      <th>Outdoor</th>\n",
       "      <th>Religious</th>\n",
       "      <th>Sleep</th>\n",
       "      <th>Social Connections</th>\n",
       "    </tr>\n",
       "    <tr>\n",
       "      <th>Gender</th>\n",
       "      <th></th>\n",
       "      <th></th>\n",
       "      <th></th>\n",
       "      <th></th>\n",
       "      <th></th>\n",
       "      <th></th>\n",
       "      <th></th>\n",
       "    </tr>\n",
       "  </thead>\n",
       "  <tbody>\n",
       "    <tr>\n",
       "      <th>0</th>\n",
       "      <td>7</td>\n",
       "      <td>31</td>\n",
       "      <td>19</td>\n",
       "      <td>19</td>\n",
       "      <td>34</td>\n",
       "      <td>11</td>\n",
       "      <td>24</td>\n",
       "    </tr>\n",
       "    <tr>\n",
       "      <th>1</th>\n",
       "      <td>4</td>\n",
       "      <td>6</td>\n",
       "      <td>0</td>\n",
       "      <td>0</td>\n",
       "      <td>12</td>\n",
       "      <td>7</td>\n",
       "      <td>9</td>\n",
       "    </tr>\n",
       "  </tbody>\n",
       "</table>\n",
       "</div>"
      ],
      "text/plain": [
       "Stress Relief Activities  Creative Outlets  Entertainment  Fitness  Outdoor   \n",
       "Gender                                                                        \n",
       "0                                        7             31       19       19  \\\n",
       "1                                        4              6        0        0   \n",
       "\n",
       "Stress Relief Activities  Religious  Sleep  Social Connections  \n",
       "Gender                                                          \n",
       "0                                34     11                  24  \n",
       "1                                12      7                   9  "
      ]
     },
     "execution_count": 52,
     "metadata": {},
     "output_type": "execute_result"
    }
   ],
   "source": [
    "df1 = df[['Gender', 'Stress Relief Activities']]\n",
    "df1 = df1.explode('Stress Relief Activities')\n",
    "contingency_table = pd.crosstab(df1['Gender'], df1['Stress Relief Activities'])\n",
    "\n",
    "contingency_table"
   ]
  },
  {
   "cell_type": "code",
   "execution_count": 53,
   "id": "82987157-0751-4d84-9832-cb5ebac84f23",
   "metadata": {},
   "outputs": [
    {
     "name": "stdout",
     "output_type": "stream",
     "text": [
      "<class 'pandas.core.frame.DataFrame'>\n",
      "Index: 185 entries, 0 to 84\n",
      "Data columns (total 2 columns):\n",
      " #   Column                    Non-Null Count  Dtype \n",
      "---  ------                    --------------  ----- \n",
      " 0   Gender                    185 non-null    int64 \n",
      " 1   Stress Relief Activities  183 non-null    object\n",
      "dtypes: int64(1), object(1)\n",
      "memory usage: 4.3+ KB\n"
     ]
    }
   ],
   "source": [
    "df1.info()"
   ]
  },
  {
   "cell_type": "code",
   "execution_count": 54,
   "id": "99ff2759-703f-4e6f-a929-65adf95d876d",
   "metadata": {},
   "outputs": [
    {
     "name": "stdout",
     "output_type": "stream",
     "text": [
      "Chi-square Test Result:\n",
      "Chi2 Statistic: 17.28549324523048\n",
      "P-value: 0.008289343173142859\n",
      "Reject the null hypothesis. There is a significant association between Gender and Stress Relief Activities.\n"
     ]
    }
   ],
   "source": [
    "chi2_stat, p_value, _, _ = chi2_contingency(contingency_table)\n",
    "\n",
    "print(\"Chi-square Test Result:\")\n",
    "print(\"Chi2 Statistic:\", chi2_stat)\n",
    "print(\"P-value:\", p_value)\n",
    "\n",
    "alpha = 0.05\n",
    "if p_value < alpha:\n",
    "    print(\"Reject the null hypothesis. There is a significant association between Gender and Stress Relief Activities.\")\n",
    "else:\n",
    "    print(\"Fail to reject the null hypothesis. There is no significant association between Gender and Stress Relief Activities.\")"
   ]
  },
  {
   "cell_type": "code",
   "execution_count": 55,
   "id": "e791a0db-bc30-45da-9e65-5172be6146d5",
   "metadata": {},
   "outputs": [
    {
     "data": {
      "image/png": "[encoded data removed]",
      "text/plain": [
       "<Figure size 1100x400 with 1 Axes>"
      ]
     },
     "metadata": {},
     "output_type": "display_data"
    }
   ],
   "source": [
    "plt.figure(figsize=(11, 4))\n",
    "ax = sns.heatmap(contingency_table, annot=True, cmap=\"Blues\", fmt=\"d\", cbar=False)\n",
    "\n",
    "plt.title('Contingency Table: Gender vs Stress Relief Activities')\n",
    "plt.xlabel('Stress Relief Activities')\n",
    "plt.ylabel('Gender')\n",
    "\n",
    "plt.show()"
   ]
  },
  {
   "cell_type": "code",
   "execution_count": null,
   "id": "5d7e83c1-8f69-48a2-b819-d044191a4346",
   "metadata": {},
   "outputs": [],
   "source": []
  }
 ],
 "metadata": {
  "kernelspec": {
   "display_name": "Python 3 (ipykernel)",
   "language": "python",
   "name": "python3"
  },
  "language_info": {
   "codemirror_mode": {
    "name": "ipython",
    "version": 3
   },
   "file_extension": ".py",
   "mimetype": "text/x-python",
   "name": "python",
   "nbconvert_exporter": "python",
   "pygments_lexer": "ipython3",
   "version": "3.11.1"
  }
 },
 "nbformat": 4,
 "nbformat_minor": 5
}
